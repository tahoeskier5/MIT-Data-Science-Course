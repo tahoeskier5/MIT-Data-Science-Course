{
  "cells": [
    {
      "cell_type": "markdown",
      "metadata": {
        "id": "view-in-github",
        "colab_type": "text"
      },
      "source": [
        "<a href=\"https://colab.research.google.com/github/tahoeskier5/MIT-Data-Science-Course/blob/main/Module19_CNN_Optimizations.ipynb\" target=\"_parent\"><img src=\"https://colab.research.google.com/assets/colab-badge.svg\" alt=\"Open In Colab\"/></a>"
      ]
    },
    {
      "cell_type": "code",
      "execution_count": null,
      "metadata": {
        "colab": {
          "background_save": true
        },
        "id": "9yjX-FB3IUTQ",
        "outputId": "2d170cc3-541c-4a56-ec04-7434df4fc524"
      },
      "outputs": [
        {
          "ename": "ImportError",
          "evalue": "cannot import name 'np_utils' from 'keras.utils' (/usr/local/lib/python3.11/dist-packages/keras/utils/__init__.py)",
          "output_type": "error",
          "traceback": [
            "\u001b[0;31m---------------------------------------------------------------------------\u001b[0m",
            "\u001b[0;31mImportError\u001b[0m                               Traceback (most recent call last)",
            "\u001b[0;32m/tmp/ipython-input-2650305496.py\u001b[0m in \u001b[0;36m<cell line: 0>\u001b[0;34m()\u001b[0m\n\u001b[1;32m     12\u001b[0m \u001b[0;32mfrom\u001b[0m \u001b[0mkeras\u001b[0m\u001b[0;34m.\u001b[0m\u001b[0mmodels\u001b[0m \u001b[0;32mimport\u001b[0m \u001b[0mSequential\u001b[0m\u001b[0;34m\u001b[0m\u001b[0;34m\u001b[0m\u001b[0m\n\u001b[1;32m     13\u001b[0m \u001b[0;32mfrom\u001b[0m \u001b[0mkeras\u001b[0m\u001b[0;34m.\u001b[0m\u001b[0mlayers\u001b[0m \u001b[0;32mimport\u001b[0m \u001b[0mDense\u001b[0m\u001b[0;34m,\u001b[0m \u001b[0mDropout\u001b[0m\u001b[0;34m,\u001b[0m \u001b[0mActivation\u001b[0m\u001b[0;34m,\u001b[0m \u001b[0mFlatten\u001b[0m\u001b[0;34m,\u001b[0m \u001b[0mConv2D\u001b[0m\u001b[0;34m,\u001b[0m \u001b[0mMaxPooling2D\u001b[0m\u001b[0;34m\u001b[0m\u001b[0;34m\u001b[0m\u001b[0m\n\u001b[0;32m---> 14\u001b[0;31m \u001b[0;32mfrom\u001b[0m \u001b[0mkeras\u001b[0m\u001b[0;34m.\u001b[0m\u001b[0mutils\u001b[0m \u001b[0;32mimport\u001b[0m \u001b[0mnp_utils\u001b[0m\u001b[0;34m\u001b[0m\u001b[0;34m\u001b[0m\u001b[0m\n\u001b[0m\u001b[1;32m     15\u001b[0m \u001b[0;32mfrom\u001b[0m \u001b[0mkeras\u001b[0m\u001b[0;34m.\u001b[0m\u001b[0mpreprocessing\u001b[0m\u001b[0;34m.\u001b[0m\u001b[0mimage\u001b[0m \u001b[0;32mimport\u001b[0m \u001b[0mImageDataGenerator\u001b[0m\u001b[0;34m\u001b[0m\u001b[0;34m\u001b[0m\u001b[0m\n\u001b[1;32m     16\u001b[0m \u001b[0;32mfrom\u001b[0m \u001b[0mkeras\u001b[0m\u001b[0;34m.\u001b[0m\u001b[0mcallbacks\u001b[0m \u001b[0;32mimport\u001b[0m \u001b[0mReduceLROnPlateau\u001b[0m\u001b[0;34m,\u001b[0m \u001b[0mCallback\u001b[0m\u001b[0;34m\u001b[0m\u001b[0;34m\u001b[0m\u001b[0m\n",
            "\u001b[0;31mImportError\u001b[0m: cannot import name 'np_utils' from 'keras.utils' (/usr/local/lib/python3.11/dist-packages/keras/utils/__init__.py)",
            "",
            "\u001b[0;31m---------------------------------------------------------------------------\u001b[0;32m\nNOTE: If your import is failing due to a missing package, you can\nmanually install dependencies using either !pip or !apt.\n\nTo view examples of installing some common dependencies, click the\n\"Open Examples\" button below.\n\u001b[0;31m---------------------------------------------------------------------------\u001b[0m\n"
          ]
        }
      ],
      "source": [
        "import numpy as np\n",
        "import pandas as pd\n",
        "from subprocess import check_output\n",
        "from sklearn.model_selection import train_test_split\n",
        "from sklearn.metrics import classification_report\n",
        "import matplotlib.pyplot as plt\n",
        "import matplotlib\n",
        "import matplotlib.image as mpimg\n",
        "import numpy as np\n",
        "from numpy import random\n",
        "\n",
        "from keras.models import Sequential\n",
        "from keras.layers import Dense, Dropout, Activation, Flatten, Conv2D, MaxPooling2D\n",
        "from keras.utils import np_utils\n",
        "from keras.preprocessing.image import ImageDataGenerator\n",
        "from keras.callbacks import ReduceLROnPlateau, Callback\n",
        "from keras import regularizers\n",
        "from keras.optimizers import Adam"
      ]
    },
    {
      "cell_type": "markdown",
      "metadata": {
        "id": "pfr3w32BlQ7x"
      },
      "source": [
        "This is a dataset of handwritten grayscale images where each image is 28x28 pixels in .CSV format. Evaluating digits is much simpler than other image recognition problems so this is a perfect dataset for evaluating different models."
      ]
    },
    {
      "cell_type": "markdown",
      "metadata": {
        "id": "R-TQi1TPT8DP"
      },
      "source": [
        "###### Place the train.csv file in your google drive under the xpro path"
      ]
    },
    {
      "cell_type": "code",
      "execution_count": null,
      "metadata": {
        "id": "NMLtOiF-QmsU"
      },
      "outputs": [],
      "source": [
        "from google.colab import drive\n",
        "drive.mount('/content/drive')\n",
        "df = pd.read_csv(\"/content/drive/MyDrive/xpro/train.csv\")\n",
        "# test_df = pd.read_csv(\"/content/drive/MyDrive/XPro/test.csv\")"
      ]
    },
    {
      "cell_type": "code",
      "execution_count": null,
      "metadata": {
        "colab": {
          "base_uri": "https://localhost:8080/",
          "height": 174
        },
        "id": "8ElqSh3nRNBm",
        "outputId": "d4ab1b52-71b5-41fb-9110-1b4932a9dad1"
      },
      "outputs": [
        {
          "data": {
            "text/html": [
              "\n",
              "  <div id=\"df-a0e307e0-39af-4f77-990d-5ff4001187d1\">\n",
              "    <div class=\"colab-df-container\">\n",
              "      <div>\n",
              "<style scoped>\n",
              "    .dataframe tbody tr th:only-of-type {\n",
              "        vertical-align: middle;\n",
              "    }\n",
              "\n",
              "    .dataframe tbody tr th {\n",
              "        vertical-align: top;\n",
              "    }\n",
              "\n",
              "    .dataframe thead th {\n",
              "        text-align: right;\n",
              "    }\n",
              "</style>\n",
              "<table border=\"1\" class=\"dataframe\">\n",
              "  <thead>\n",
              "    <tr style=\"text-align: right;\">\n",
              "      <th></th>\n",
              "      <th>label</th>\n",
              "      <th>pixel0</th>\n",
              "      <th>pixel1</th>\n",
              "      <th>pixel2</th>\n",
              "      <th>pixel3</th>\n",
              "      <th>pixel4</th>\n",
              "      <th>pixel5</th>\n",
              "      <th>pixel6</th>\n",
              "      <th>pixel7</th>\n",
              "      <th>pixel8</th>\n",
              "      <th>...</th>\n",
              "      <th>pixel774</th>\n",
              "      <th>pixel775</th>\n",
              "      <th>pixel776</th>\n",
              "      <th>pixel777</th>\n",
              "      <th>pixel778</th>\n",
              "      <th>pixel779</th>\n",
              "      <th>pixel780</th>\n",
              "      <th>pixel781</th>\n",
              "      <th>pixel782</th>\n",
              "      <th>pixel783</th>\n",
              "    </tr>\n",
              "  </thead>\n",
              "  <tbody>\n",
              "    <tr>\n",
              "      <th>13255</th>\n",
              "      <td>3</td>\n",
              "      <td>0</td>\n",
              "      <td>0</td>\n",
              "      <td>0</td>\n",
              "      <td>0</td>\n",
              "      <td>0</td>\n",
              "      <td>0</td>\n",
              "      <td>0</td>\n",
              "      <td>0</td>\n",
              "      <td>0</td>\n",
              "      <td>...</td>\n",
              "      <td>0</td>\n",
              "      <td>0</td>\n",
              "      <td>0</td>\n",
              "      <td>0</td>\n",
              "      <td>0</td>\n",
              "      <td>0</td>\n",
              "      <td>0</td>\n",
              "      <td>0</td>\n",
              "      <td>0</td>\n",
              "      <td>0</td>\n",
              "    </tr>\n",
              "  </tbody>\n",
              "</table>\n",
              "<p>1 rows × 785 columns</p>\n",
              "</div>\n",
              "      <button class=\"colab-df-convert\" onclick=\"convertToInteractive('df-a0e307e0-39af-4f77-990d-5ff4001187d1')\"\n",
              "              title=\"Convert this dataframe to an interactive table.\"\n",
              "              style=\"display:none;\">\n",
              "        \n",
              "  <svg xmlns=\"http://www.w3.org/2000/svg\" height=\"24px\"viewBox=\"0 0 24 24\"\n",
              "       width=\"24px\">\n",
              "    <path d=\"M0 0h24v24H0V0z\" fill=\"none\"/>\n",
              "    <path d=\"M18.56 5.44l.94 2.06.94-2.06 2.06-.94-2.06-.94-.94-2.06-.94 2.06-2.06.94zm-11 1L8.5 8.5l.94-2.06 2.06-.94-2.06-.94L8.5 2.5l-.94 2.06-2.06.94zm10 10l.94 2.06.94-2.06 2.06-.94-2.06-.94-.94-2.06-.94 2.06-2.06.94z\"/><path d=\"M17.41 7.96l-1.37-1.37c-.4-.4-.92-.59-1.43-.59-.52 0-1.04.2-1.43.59L10.3 9.45l-7.72 7.72c-.78.78-.78 2.05 0 2.83L4 21.41c.39.39.9.59 1.41.59.51 0 1.02-.2 1.41-.59l7.78-7.78 2.81-2.81c.8-.78.8-2.07 0-2.86zM5.41 20L4 18.59l7.72-7.72 1.47 1.35L5.41 20z\"/>\n",
              "  </svg>\n",
              "      </button>\n",
              "      \n",
              "  <style>\n",
              "    .colab-df-container {\n",
              "      display:flex;\n",
              "      flex-wrap:wrap;\n",
              "      gap: 12px;\n",
              "    }\n",
              "\n",
              "    .colab-df-convert {\n",
              "      background-color: #E8F0FE;\n",
              "      border: none;\n",
              "      border-radius: 50%;\n",
              "      cursor: pointer;\n",
              "      display: none;\n",
              "      fill: #1967D2;\n",
              "      height: 32px;\n",
              "      padding: 0 0 0 0;\n",
              "      width: 32px;\n",
              "    }\n",
              "\n",
              "    .colab-df-convert:hover {\n",
              "      background-color: #E2EBFA;\n",
              "      box-shadow: 0px 1px 2px rgba(60, 64, 67, 0.3), 0px 1px 3px 1px rgba(60, 64, 67, 0.15);\n",
              "      fill: #174EA6;\n",
              "    }\n",
              "\n",
              "    [theme=dark] .colab-df-convert {\n",
              "      background-color: #3B4455;\n",
              "      fill: #D2E3FC;\n",
              "    }\n",
              "\n",
              "    [theme=dark] .colab-df-convert:hover {\n",
              "      background-color: #434B5C;\n",
              "      box-shadow: 0px 1px 3px 1px rgba(0, 0, 0, 0.15);\n",
              "      filter: drop-shadow(0px 1px 2px rgba(0, 0, 0, 0.3));\n",
              "      fill: #FFFFFF;\n",
              "    }\n",
              "  </style>\n",
              "\n",
              "      <script>\n",
              "        const buttonEl =\n",
              "          document.querySelector('#df-a0e307e0-39af-4f77-990d-5ff4001187d1 button.colab-df-convert');\n",
              "        buttonEl.style.display =\n",
              "          google.colab.kernel.accessAllowed ? 'block' : 'none';\n",
              "\n",
              "        async function convertToInteractive(key) {\n",
              "          const element = document.querySelector('#df-a0e307e0-39af-4f77-990d-5ff4001187d1');\n",
              "          const dataTable =\n",
              "            await google.colab.kernel.invokeFunction('convertToInteractive',\n",
              "                                                     [key], {});\n",
              "          if (!dataTable) return;\n",
              "\n",
              "          const docLinkHtml = 'Like what you see? Visit the ' +\n",
              "            '<a target=\"_blank\" href=https://colab.research.google.com/notebooks/data_table.ipynb>data table notebook</a>'\n",
              "            + ' to learn more about interactive tables.';\n",
              "          element.innerHTML = '';\n",
              "          dataTable['output_type'] = 'display_data';\n",
              "          await google.colab.output.renderOutput(dataTable, element);\n",
              "          const docLink = document.createElement('div');\n",
              "          docLink.innerHTML = docLinkHtml;\n",
              "          element.appendChild(docLink);\n",
              "        }\n",
              "      </script>\n",
              "    </div>\n",
              "  </div>\n",
              "  "
            ],
            "text/plain": [
              "       label  pixel0  pixel1  pixel2  pixel3  pixel4  pixel5  pixel6  pixel7  \\\n",
              "13255      3       0       0       0       0       0       0       0       0   \n",
              "\n",
              "       pixel8  ...  pixel774  pixel775  pixel776  pixel777  pixel778  \\\n",
              "13255       0  ...         0         0         0         0         0   \n",
              "\n",
              "       pixel779  pixel780  pixel781  pixel782  pixel783  \n",
              "13255         0         0         0         0         0  \n",
              "\n",
              "[1 rows x 785 columns]"
            ]
          },
          "execution_count": 23,
          "metadata": {},
          "output_type": "execute_result"
        }
      ],
      "source": [
        "df.sample(1)"
      ]
    },
    {
      "cell_type": "markdown",
      "metadata": {
        "id": "x0zuMC0Vl_L0"
      },
      "source": [
        "Write a method to visualize the images:"
      ]
    },
    {
      "cell_type": "code",
      "execution_count": null,
      "metadata": {
        "id": "8qUat4TTIZCK"
      },
      "outputs": [],
      "source": [
        "\n",
        "\n",
        "def display_images(X, y=[], rows=5, columns=5, cmap=\"gray\"):\n",
        "    \"\"\" Display images and labels\n",
        "    \"\"\"\n",
        "    fig, ax = plt.subplots(rows,columns, figsize=(6,6))\n",
        "    for row in range(rows):\n",
        "        for column in range(columns):\n",
        "            ax[row][column].imshow(X[(row*columns)+column].reshape(28,28), cmap=cmap)\n",
        "            ax[row][column].set_axis_off()\n",
        "            if len(y):ax[row][column].set_title(\"{}:{}\".format(\"label\",np.argmax(y[(row*columns)+column])))\n",
        "    fig.tight_layout()\n",
        "\n",
        "%matplotlib inline"
      ]
    },
    {
      "cell_type": "markdown",
      "metadata": {
        "id": "HS3BAFYcmPrg"
      },
      "source": [
        "Training (60%): data used to train convnet;\n",
        "Cross validation (20%): data used to validate performance;\n",
        "Test (20%): data used to test the classification accuracy\n",
        "\n",
        "There is a separate test set available, but those images are not labeled so we cannot use them for evaluation."
      ]
    },
    {
      "cell_type": "code",
      "execution_count": null,
      "metadata": {
        "colab": {
          "base_uri": "https://localhost:8080/"
        },
        "id": "teMfdzYoRQZy",
        "outputId": "7e149e43-5233-46ce-f034-a9dc178c21f0"
      },
      "outputs": [
        {
          "name": "stdout",
          "output_type": "stream",
          "text": [
            "X_train:(25200, 784)\n",
            "y_train:(25200,)\n",
            "\n",
            "X_cv:(8400, 784)\n",
            "y_cv:(8400,)\n",
            "\n",
            "X_test:(8400, 784)\n",
            "y_test:(8400,)\n"
          ]
        }
      ],
      "source": [
        "X_train, X_val, y_train, y_val = train_test_split(df.iloc[:,1:].values, df.iloc[:,0].values, test_size = 0.4)\n",
        "X_cv, X_test, y_cv, y_test = train_test_split(X_val, y_val, test_size = 0.5)\n",
        "print(\"X_train:{}\\ny_train:{}\\n\\nX_cv:{}\\ny_cv:{}\\n\\nX_test:{}\\ny_test:{}\".format(X_train.shape, y_train.shape, X_cv.shape, y_cv.shape, X_test.shape, y_test.shape))"
      ]
    },
    {
      "cell_type": "markdown",
      "metadata": {
        "id": "Kp3-gWIHmhKb"
      },
      "source": [
        "The images are in .CSV format meaning they are represented by 784 values. You need to reformat the data to be 28x28. You also need to normalize the gray scale from 0-255 to 0-1."
      ]
    },
    {
      "cell_type": "code",
      "execution_count": null,
      "metadata": {
        "colab": {
          "base_uri": "https://localhost:8080/"
        },
        "id": "N8BWQOjIRUv4",
        "outputId": "a1805148-ea2a-4b76-dd0f-179c722d1cb7"
      },
      "outputs": [
        {
          "name": "stdout",
          "output_type": "stream",
          "text": [
            "Reshaped:\n",
            "X_train:(25200, 28, 28, 1)\n",
            "y_train:(25200, 10)\n",
            "\n",
            "X_cv:(8400, 28, 28, 1)\n",
            "y_cv:(8400, 10)\n",
            "\n",
            "X_test:(8400, 28, 28, 1)\n",
            "y_test:(8400, 10)\n"
          ]
        }
      ],
      "source": [
        "width = 28\n",
        "height = 28\n",
        "channels = 1\n",
        "X_train = X_train.reshape(X_train.shape[0], width, height, channels)\n",
        "X_cv = X_cv.reshape(X_cv.shape[0], width, height, channels)\n",
        "X_test = X_test.reshape(X_test.shape[0], width, height, channels)\n",
        "\n",
        "# convert output classes to one hot representation\n",
        "y_train = np_utils.to_categorical(y_train, num_classes=10)\n",
        "y_cv = np_utils.to_categorical(y_cv, num_classes=10)\n",
        "y_test = np_utils.to_categorical(y_test, num_classes=10)\n",
        "\n",
        "X_train = X_train.astype('float32')\n",
        "X_cv = X_cv.astype('float32')\n",
        "X_test = X_test.astype('float32')\n",
        "\n",
        "# Scale features (pixel values) from 0-255, to 0-1\n",
        "X_train /= 255\n",
        "X_cv /= 255\n",
        "X_test /= 255\n",
        "print(\"Reshaped:\")\n",
        "print(\"X_train:{}\\ny_train:{}\\n\\nX_cv:{}\\ny_cv:{}\\n\\nX_test:{}\\ny_test:{}\".format(X_train.shape, y_train.shape, X_cv.shape, y_cv.shape, X_test.shape, y_test.shape))"
      ]
    },
    {
      "cell_type": "code",
      "execution_count": null,
      "metadata": {
        "colab": {
          "base_uri": "https://localhost:8080/",
          "height": 441
        },
        "id": "tDOib4exRYEP",
        "outputId": "7d45ccd8-d5ca-459e-aa59-a6dcaf0c1ea2"
      },
      "outputs": [
        {
          "data": {
            "image/png": "[encoded data removed]",
            "text/plain": [
              "<Figure size 432x432 with 25 Axes>"
            ]
          },
          "metadata": {},
          "output_type": "display_data"
        }
      ],
      "source": [
        "display_images(X_train, y_train)"
      ]
    },
    {
      "cell_type": "markdown",
      "metadata": {
        "id": "iW0Qho_anIHH"
      },
      "source": [
        "\n",
        "\n",
        "```\n",
        "# This is formatted as code\n",
        "```\n",
        "\n",
        "You will be making three total models so you should define methods to standardize the models and maintain consistency.\n",
        "\n",
        "Try changing teh epochs and see how it affects your model"
      ]
    },
    {
      "cell_type": "code",
      "execution_count": null,
      "metadata": {
        "id": "HPWITeUiRoHC"
      },
      "outputs": [],
      "source": [
        "batch_size=84\n",
        "epochs=5 # Change to 30\n",
        "verbose=2\n",
        "\n",
        "class LossHistory(Callback):\n",
        "    def on_train_begin(self, logs={}):\n",
        "        self.losses = []\n",
        "\n",
        "    def on_batch_end(self, batch, logs={}):\n",
        "        self.losses.append(logs.get('loss'))\n",
        "\n",
        "\n",
        "def create_model():\n",
        "    model = Sequential()\n",
        "    model.add(Conv2D(32, (5,5), padding=\"same\", activation='relu', input_shape=(width, height, channels) ))\n",
        "    model.add(Conv2D(32, (5,5), padding=\"same\", activation='relu'))\n",
        "    model.add(MaxPooling2D(pool_size=(2,2)))\n",
        "    model.add(Dropout(0.4))\n",
        "    model.add(Conv2D(64, (3,3), padding=\"same\", activation='relu'))\n",
        "    model.add(Conv2D(64, (3,3), padding=\"same\", activation='relu'))\n",
        "    model.add(MaxPooling2D(pool_size=(2,2)))\n",
        "    model.add(Dropout(0.5))\n",
        "    model.add(Flatten())\n",
        "    model.add(Dense(384, activation='relu'))\n",
        "    model.add(Dropout(0.5))\n",
        "    model.add(Dense(10, activation='softmax'))\n",
        "\n",
        "    opt = \"adam\" #Adam(lr=0.0001, beta_1=0.9, beta_2=0.999, epsilon=1e-08)\n",
        "    model.compile(loss='categorical_crossentropy',\n",
        "                  optimizer=opt,\n",
        "                  metrics=['accuracy'])\n",
        "    return model"
      ]
    },
    {
      "cell_type": "code",
      "execution_count": null,
      "metadata": {
        "id": "Fdx31fEDRq3h"
      },
      "outputs": [],
      "source": [
        "def plot_metrics(h, title=\"\"):\n",
        "    \"\"\" Plot training metrics - loss and accuracy, for each epoch,\n",
        "        given a training history object\n",
        "    \"\"\"\n",
        "    fig, axes = plt.subplots(1,2, figsize=(10,5))\n",
        "\n",
        "    axes[0].plot(h.history['loss'], color=\"lightblue\", label=\"Training\", lw=2.0)\n",
        "    axes[0].plot(h.history['val_loss'], color=\"steelblue\", label=\"Validation\", lw=2.0)\n",
        "\n",
        "    axes[0].set_title(\"{} (Loss)\".format(title))\n",
        "    axes[0].set_xlabel(\"Epoch\")\n",
        "    axes[0].set_xticks(np.arange(len(h.history[\"loss\"]), 2))\n",
        "    axes[0].set_ylabel(\"Loss\")\n",
        "\n",
        "    axes[1].plot(h.history['accuracy'], color=\"lightblue\", label=\"Training\", lw=2.0)\n",
        "    axes[1].plot(h.history['val_acc'], color=\"steelblue\", label=\"Validation\", lw=2.0)\n",
        "\n",
        "    axes[1].set_title(\"{} (Accuracy)\".format(title))\n",
        "    axes[1].set_xlabel(\"Epoch\")\n",
        "    axes[1].set_xticks(np.arange(len(h.history[\"acc\"]), 2))\n",
        "    axes[1].set_ylabel(\"Accuracy\")\n",
        "\n",
        "\n",
        "    for axis in axes:\n",
        "      axis.ticklabel_format(useOffset=False)\n",
        "      axis.spines[\"top\"].set_visible(False)\n",
        "      axis.spines[\"right\"].set_visible(False)\n",
        "      axis.legend(loc='best', shadow=False)\n",
        "    fig.tight_layout()"
      ]
    },
    {
      "cell_type": "code",
      "execution_count": null,
      "metadata": {
        "id": "4l2x7qkSR7Ym"
      },
      "outputs": [],
      "source": [
        "def plot_losses(batch_hist, title=\"\"):\n",
        "    fig, ax1 = plt.subplots()\n",
        "\n",
        "    ax1.semilogx(batch_hist.losses)\n",
        "    ax1.set_title(\"{} (Batch Loss)\".format(title))\n",
        "\n",
        "    ax1.spines[\"top\"].set_visible(False)\n",
        "    ax1.spines[\"right\"].set_visible(False)\n",
        "\n",
        "    plt.show()"
      ]
    },
    {
      "cell_type": "markdown",
      "metadata": {
        "id": "6Zwz_xcEnVsJ"
      },
      "source": [
        "Create your first model and visualize it:"
      ]
    },
    {
      "cell_type": "code",
      "execution_count": null,
      "metadata": {
        "colab": {
          "base_uri": "https://localhost:8080/"
        },
        "id": "cO6Ddf5uR-dN",
        "outputId": "1e2cbbd2-996f-430b-8acd-4894e665aead"
      },
      "outputs": [
        {
          "name": "stdout",
          "output_type": "stream",
          "text": [
            "Epoch 1/5\n",
            "300/300 - 206s - loss: 0.3518 - accuracy: 0.8856 - val_loss: 0.0725 - val_accuracy: 0.9780 - 206s/epoch - 687ms/step\n",
            "Epoch 2/5\n",
            "300/300 - 208s - loss: 0.1108 - accuracy: 0.9665 - val_loss: 0.0508 - val_accuracy: 0.9840 - 208s/epoch - 692ms/step\n",
            "Epoch 3/5\n",
            "300/300 - 204s - loss: 0.0893 - accuracy: 0.9738 - val_loss: 0.0369 - val_accuracy: 0.9881 - 204s/epoch - 680ms/step\n",
            "Epoch 4/5\n",
            "300/300 - 197s - loss: 0.0687 - accuracy: 0.9792 - val_loss: 0.0430 - val_accuracy: 0.9861 - 197s/epoch - 655ms/step\n",
            "Epoch 5/5\n",
            "300/300 - 203s - loss: 0.0603 - accuracy: 0.9821 - val_loss: 0.0348 - val_accuracy: 0.9881 - 203s/epoch - 676ms/step\n"
          ]
        }
      ],
      "source": [
        "model0 = create_model()\n",
        "\n",
        "model0_batch_hist = LossHistory()\n",
        "\n",
        "model0_metrics = model0.fit(X_train, y_train, batch_size = batch_size, epochs = epochs,\n",
        "          validation_data = (X_cv, y_cv), verbose = verbose, shuffle=True, callbacks=[model0_batch_hist])\n",
        "\n",
        "#model0.save_weights(\"model0.h5\")"
      ]
    },
    {
      "cell_type": "markdown",
      "metadata": {
        "id": "fvmwgyC9oMHE"
      },
      "source": [
        "### Learning Rate Annealing"
      ]
    },
    {
      "cell_type": "markdown",
      "metadata": {
        "id": "XWOjMo22oJa6"
      },
      "source": [
        "Learning rate is the step size in gradient descent. If the step size is too large, the system may oscillate chaotically. On the other hand, if the step size is too small, it may take too long or may settle on a local minimum.\n",
        "\n",
        "You will watch validation accuracy in each epoch and reduce the learning rate to a third if it plateaus in two consecutive epochs. Keras provides an aptly named ReduceLROnPlateau callback to adapt the learning rate based on results from each epoch. Ref: ReduceLROnPlateau for more options.\n",
        "\n",
        "The verbose mode allows you to see when the learning rate reduction actually kicks in."
      ]
    },
    {
      "cell_type": "code",
      "execution_count": null,
      "metadata": {
        "id": "sHe1dhsKSD7J"
      },
      "outputs": [],
      "source": [
        "learning_rate_controller = ReduceLROnPlateau(monitor='val_loss', patience=2, verbose=verbose, factor=0.3, min_lr=0.00001, epsilon=0.001)"
      ]
    },
    {
      "cell_type": "markdown",
      "metadata": {
        "id": "NBaeLXp9oY3O"
      },
      "source": [
        "Create a new instance of the same model, but this time insert a callback to the learning rate control function defined above. Then fit the model to your training dataset and collect metrics."
      ]
    },
    {
      "cell_type": "code",
      "execution_count": null,
      "metadata": {
        "id": "D-XH2GejSN7n"
      },
      "outputs": [],
      "source": [
        "model1 = create_model()\n",
        "model1_batch_hist = LossHistory()\n",
        "model1_metrics = model1.fit(X_train, y_train, batch_size = batch_size, epochs = epochs,\n",
        "          validation_data = (X_cv, y_cv), verbose = verbose, shuffle=True, callbacks=[learning_rate_controller,model1_batch_hist])\n",
        "#model1.save_weights(\"model1.h5\")"
      ]
    },
    {
      "cell_type": "markdown",
      "metadata": {
        "id": "n_SJgHTNocZw"
      },
      "source": [
        "# Data Augmentation\n",
        "To reduce overfitting and to improve classification accuracy, you can augment the training samples with random transformations of images in the training set. In Keras, this is done using keras.preprocessing.image.ImageDataGenerator class. You can apply random transformations such as zooming, rotation, and shifting the image up or down. You should limit the rotation to a few degrees, and disable horizontal and vertical flipping, as this dataset of digits is prone to produce ambiguous results with these operations.\n",
        "\n",
        "See ImageDataGenerator for lots of other options that are useful for other types of images."
      ]
    },
    {
      "cell_type": "code",
      "execution_count": null,
      "metadata": {
        "id": "ffxWBAOfSQor"
      },
      "outputs": [],
      "source": [
        "idg = ImageDataGenerator(\n",
        "        rotation_range=10,\n",
        "        zoom_range = 0.05,\n",
        "        width_shift_range=0.05,\n",
        "        height_shift_range=0.05,\n",
        "        horizontal_flip=False,\n",
        "        vertical_flip=False, data_format=\"channels_last\")"
      ]
    },
    {
      "cell_type": "markdown",
      "metadata": {
        "id": "GVs0niLtokPw"
      },
      "source": [
        "Example images are generated:"
      ]
    },
    {
      "cell_type": "code",
      "execution_count": null,
      "metadata": {
        "id": "WkxHGToZSS2h"
      },
      "outputs": [],
      "source": [
        "image_data = idg.flow(X_train,y_train, batch_size=25).next()\n",
        "print(\"Sample images from ImageDataGenerator:\")\n",
        "display_images(image_data[0], image_data[1])"
      ]
    },
    {
      "cell_type": "markdown",
      "metadata": {
        "id": "wOJwXUTUoxL-"
      },
      "source": [
        "# New SectionModel with data augmentation\n",
        "Create yet another instance of the model you defined earlier with the learning rate annealer. This time instead of fitting it to the training dataset, you will instead fit it to the images generated by the ImageDataGenerator. Then collect loss and accuracy metrics for comparison."
      ]
    },
    {
      "cell_type": "code",
      "execution_count": null,
      "metadata": {
        "id": "YECqs0tLSV72"
      },
      "outputs": [],
      "source": [
        "model2 = create_model()\n",
        "model2_batch_hist = LossHistory()\n",
        "model2_metrics = model2.fit_generator(idg.flow(X_train,y_train, batch_size=batch_size),\n",
        "                    epochs = epochs,\n",
        "                    steps_per_epoch=X_train.shape[0]//batch_size,\n",
        "                    validation_data=(X_cv,y_cv),\n",
        "                    callbacks=[learning_rate_controller,model2_batch_hist],\n",
        "                    verbose = verbose)\n",
        "#model2.save_weights(\"model2.h5\")"
      ]
    },
    {
      "cell_type": "markdown",
      "metadata": {
        "id": "_MWdFycqo1xy"
      },
      "source": [
        "# Comparing the loss functions\n",
        "A plot of the loss function over all batches shows the effects of learning rate annealing and data augmentation. The learning rate annealer appears to reduce noise.\n"
      ]
    },
    {
      "cell_type": "code",
      "execution_count": null,
      "metadata": {
        "id": "HNEAuy8kSZPj"
      },
      "outputs": [],
      "source": [
        "plot_losses(model0_batch_hist, \"CNN\")\n",
        "plot_losses(model1_batch_hist, \"CNN with Learning Rate Annealer\")\n",
        "plot_losses(model2_batch_hist, \"CNN with Augmented Data\")"
      ]
    },
    {
      "cell_type": "markdown",
      "metadata": {
        "id": "GFv6n3E3o_mF"
      },
      "source": [
        "# Results\n",
        "Keras provides a History callback that returns loss and accuracy metrics for training and validation sets for each epoch. Plots of the loss and accuracy metrics on training and validation data from the three models, help you to see the effects of learning rate annealing and data augmentation.\n",
        "\n",
        "The learning rate annealer smoothed the loss and accuracy metrics.\n",
        "Data augmentation reduced overfitting compared to the previous models."
      ]
    },
    {
      "cell_type": "code",
      "execution_count": null,
      "metadata": {
        "id": "dH2CBampSdFs"
      },
      "outputs": [],
      "source": [
        "plot_metrics(model0_metrics,\"Convolutional Neural Network\")\n",
        "plot_metrics(model1_metrics,\"CNN with Learning Rate Annealer\\n\")\n",
        "plot_metrics(model2_metrics,\"CNN with Annealer and Data Augmentation\\n\")"
      ]
    },
    {
      "cell_type": "markdown",
      "metadata": {
        "id": "e8XQrEwLpGr6"
      },
      "source": [
        "# Classification Accuracy\n",
        "Finally, a summary of how the three models performed in terms of training, validation and test accuracy:"
      ]
    },
    {
      "cell_type": "code",
      "execution_count": null,
      "metadata": {
        "id": "FCpsa0OpSh0O"
      },
      "outputs": [],
      "source": [
        "models = [model0, model1, model2]\n",
        "metrics = [model0_metrics, model1_metrics, model2_metrics]\n",
        "names = [\"Convolutional Neural Network\", \"CNN + Learning Rate Annealing\", \"CNN + LR + Data Augmentation\"\n",
        "         ]\n",
        "data = []\n",
        "for i, m in enumerate(zip(names, metrics, models)):\n",
        "    data.append([m[0], \"{:0.2f}\".format(m[1].history[\"accuracy\"][-1]*100), \"{:0.2f}\".format(m[1].history[\"val_acc\"][-1]*100), \"{:0.2f}\".format(m[2].evaluate(X_test, y_test, verbose=0)[1]*100)])\n",
        "\n",
        "results = pd.DataFrame(data, columns=(\"Model\",\"Training Accuracy\",\"Validation Accuracy\", \"Test Accuracy\"))\n",
        "from IPython.display import display, HTML\n",
        "display(HTML(results.to_html(index=False)))\n",
        "plt.bar(np.arange(len(results[\"Model\"].values)),results[\"Training Accuracy\"].values.astype(\"float64\"), 0.2, color=\"lightblue\")\n",
        "plt.bar(np.arange(len(results[\"Model\"].values))+0.2,results[\"Validation Accuracy\"].values.astype(\"float64\"), 0.2, color=\"steelblue\")\n",
        "plt.bar(np.arange(len(results[\"Model\"].values))+0.4,results[\"Test Accuracy\"].values.astype(\"float64\"), 0.2, color=\"navy\")\n",
        "plt.ylim(97, 100)\n",
        "plt.xticks(np.arange(len(results[\"Model\"].values))+0.2, [\"CNN\",\"CNN+LR\", \"CNN+LR+Aug\"])\n",
        "plt.legend([\"Training\",\"Validation\", \"Test\"],loc=(1,0.5))\n",
        "g = plt.gca()\n",
        "g.spines[\"top\"].set_visible(False)\n",
        "g.spines[\"right\"].set_visible(False)\n",
        "plt.title(\"Accuracy\")"
      ]
    }
  ],
  "metadata": {
    "colab": {
      "provenance": [],
      "include_colab_link": true
    },
    "kernelspec": {
      "display_name": "Python 3",
      "language": "python",
      "name": "python3"
    },
    "language_info": {
      "codemirror_mode": {
        "name": "ipython",
        "version": 3
      },
      "file_extension": ".py",
      "mimetype": "text/x-python",
      "name": "python",
      "nbconvert_exporter": "python",
      "pygments_lexer": "ipython3",
      "version": "3.6.9"
    }
  },
  "nbformat": 4,
  "nbformat_minor": 0
}