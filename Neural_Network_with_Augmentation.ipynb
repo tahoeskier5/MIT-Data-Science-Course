{
  "cells": [
    {
      "cell_type": "markdown",
      "metadata": {
        "id": "view-in-github",
        "colab_type": "text"
      },
      "source": [
        "<a href=\"https://colab.research.google.com/github/tahoeskier5/MIT-Data-Science-Course/blob/main/Neural_Network_with_Augmentation.ipynb\" target=\"_parent\"><img src=\"https://colab.research.google.com/assets/colab-badge.svg\" alt=\"Open In Colab\"/></a>"
      ]
    },
    {
      "cell_type": "markdown",
      "metadata": {
        "id": "SisJZgAosqLd"
      },
      "source": [
        "## Convolutional Neural Networks with Image Augmentation"
      ]
    },
    {
      "cell_type": "markdown",
      "metadata": {
        "id": "0O0aSHwNs2M8"
      },
      "source": [
        "## About the Data\n",
        "The original MNIST image dataset of handwritten digits is a popular benchmark for image-based machine learning methods but researchers have renewed efforts to update it and develop drop-in replacements that are more challenging for computer vision and optimal for real-world applications. In one recent replacement called the Fashion-MNIST dataset, researchers quoted the startling claim that \"Most pairs of MNIST digits (784 total pixels per sample) can be distinguished pretty well by just one pixel\". To encourage the community to develop more drop-in replacements, the Sign Language MNIST is presented here and follows the same .CSV format with labels and pixel values in single rows. The American Sign Language letter database of hand gestures represent a multi-class problem with 24 classes of letters (excluding J and Z which require motion).\n",
        "\n",
        "The full introduction can be seen here: https://www.kaggle.com/datamunge/sign-language-mnist/home\n",
        "\n",
        "This type of computations may be long, so it is recommended to start with timer setting so you will know how much time the script will take."
      ]
    },
    {
      "cell_type": "code",
      "execution_count": null,
      "metadata": {
        "id": "3pvLxLmgs6lW"
      },
      "outputs": [],
      "source": [
        "import time\n",
        "from time import perf_counter as timer"
      ]
    },
    {
      "cell_type": "code",
      "execution_count": null,
      "metadata": {
        "id": "zhOjOsqgs9w1"
      },
      "outputs": [],
      "source": [
        "import numpy as np\n",
        "import pandas as pd\n",
        "import matplotlib.pyplot as plt\n",
        "import seaborn as sns\n",
        "import os"
      ]
    },
    {
      "cell_type": "code",
      "execution_count": null,
      "metadata": {
        "colab": {
          "base_uri": "https://localhost:8080/",
          "height": 317
        },
        "id": "zw2WX-CqtmHq",
        "outputId": "4241e269-a911-4a6c-ff15-6d9f7a1a2787"
      },
      "outputs": [
        {
          "name": "stdout",
          "output_type": "stream",
          "text": [
            "Drive already mounted at /content/drive; to attempt to forcibly remount, call drive.mount(\"/content/drive\", force_remount=True).\n"
          ]
        },
        {
          "data": {
            "text/html": [
              "\n",
              "  <div id=\"df-b0c2be72-b2b6-4896-a80b-260f367bc02a\">\n",
              "    <div class=\"colab-df-container\">\n",
              "      <div>\n",
              "<style scoped>\n",
              "    .dataframe tbody tr th:only-of-type {\n",
              "        vertical-align: middle;\n",
              "    }\n",
              "\n",
              "    .dataframe tbody tr th {\n",
              "        vertical-align: top;\n",
              "    }\n",
              "\n",
              "    .dataframe thead th {\n",
              "        text-align: right;\n",
              "    }\n",
              "</style>\n",
              "<table border=\"1\" class=\"dataframe\">\n",
              "  <thead>\n",
              "    <tr style=\"text-align: right;\">\n",
              "      <th></th>\n",
              "      <th>label</th>\n",
              "      <th>pixel1</th>\n",
              "      <th>pixel2</th>\n",
              "      <th>pixel3</th>\n",
              "      <th>pixel4</th>\n",
              "      <th>pixel5</th>\n",
              "      <th>pixel6</th>\n",
              "      <th>pixel7</th>\n",
              "      <th>pixel8</th>\n",
              "      <th>pixel9</th>\n",
              "      <th>...</th>\n",
              "      <th>pixel775</th>\n",
              "      <th>pixel776</th>\n",
              "      <th>pixel777</th>\n",
              "      <th>pixel778</th>\n",
              "      <th>pixel779</th>\n",
              "      <th>pixel780</th>\n",
              "      <th>pixel781</th>\n",
              "      <th>pixel782</th>\n",
              "      <th>pixel783</th>\n",
              "      <th>pixel784</th>\n",
              "    </tr>\n",
              "  </thead>\n",
              "  <tbody>\n",
              "    <tr>\n",
              "      <th>0</th>\n",
              "      <td>3</td>\n",
              "      <td>107</td>\n",
              "      <td>118</td>\n",
              "      <td>127</td>\n",
              "      <td>134</td>\n",
              "      <td>139</td>\n",
              "      <td>143</td>\n",
              "      <td>146</td>\n",
              "      <td>150</td>\n",
              "      <td>153</td>\n",
              "      <td>...</td>\n",
              "      <td>207</td>\n",
              "      <td>207</td>\n",
              "      <td>207</td>\n",
              "      <td>207</td>\n",
              "      <td>206</td>\n",
              "      <td>206</td>\n",
              "      <td>206</td>\n",
              "      <td>204</td>\n",
              "      <td>203</td>\n",
              "      <td>202</td>\n",
              "    </tr>\n",
              "    <tr>\n",
              "      <th>1</th>\n",
              "      <td>6</td>\n",
              "      <td>155</td>\n",
              "      <td>157</td>\n",
              "      <td>156</td>\n",
              "      <td>156</td>\n",
              "      <td>156</td>\n",
              "      <td>157</td>\n",
              "      <td>156</td>\n",
              "      <td>158</td>\n",
              "      <td>158</td>\n",
              "      <td>...</td>\n",
              "      <td>69</td>\n",
              "      <td>149</td>\n",
              "      <td>128</td>\n",
              "      <td>87</td>\n",
              "      <td>94</td>\n",
              "      <td>163</td>\n",
              "      <td>175</td>\n",
              "      <td>103</td>\n",
              "      <td>135</td>\n",
              "      <td>149</td>\n",
              "    </tr>\n",
              "    <tr>\n",
              "      <th>2</th>\n",
              "      <td>2</td>\n",
              "      <td>187</td>\n",
              "      <td>188</td>\n",
              "      <td>188</td>\n",
              "      <td>187</td>\n",
              "      <td>187</td>\n",
              "      <td>186</td>\n",
              "      <td>187</td>\n",
              "      <td>188</td>\n",
              "      <td>187</td>\n",
              "      <td>...</td>\n",
              "      <td>202</td>\n",
              "      <td>201</td>\n",
              "      <td>200</td>\n",
              "      <td>199</td>\n",
              "      <td>198</td>\n",
              "      <td>199</td>\n",
              "      <td>198</td>\n",
              "      <td>195</td>\n",
              "      <td>194</td>\n",
              "      <td>195</td>\n",
              "    </tr>\n",
              "    <tr>\n",
              "      <th>3</th>\n",
              "      <td>2</td>\n",
              "      <td>211</td>\n",
              "      <td>211</td>\n",
              "      <td>212</td>\n",
              "      <td>212</td>\n",
              "      <td>211</td>\n",
              "      <td>210</td>\n",
              "      <td>211</td>\n",
              "      <td>210</td>\n",
              "      <td>210</td>\n",
              "      <td>...</td>\n",
              "      <td>235</td>\n",
              "      <td>234</td>\n",
              "      <td>233</td>\n",
              "      <td>231</td>\n",
              "      <td>230</td>\n",
              "      <td>226</td>\n",
              "      <td>225</td>\n",
              "      <td>222</td>\n",
              "      <td>229</td>\n",
              "      <td>163</td>\n",
              "    </tr>\n",
              "    <tr>\n",
              "      <th>4</th>\n",
              "      <td>13</td>\n",
              "      <td>164</td>\n",
              "      <td>167</td>\n",
              "      <td>170</td>\n",
              "      <td>172</td>\n",
              "      <td>176</td>\n",
              "      <td>179</td>\n",
              "      <td>180</td>\n",
              "      <td>184</td>\n",
              "      <td>185</td>\n",
              "      <td>...</td>\n",
              "      <td>92</td>\n",
              "      <td>105</td>\n",
              "      <td>105</td>\n",
              "      <td>108</td>\n",
              "      <td>133</td>\n",
              "      <td>163</td>\n",
              "      <td>157</td>\n",
              "      <td>163</td>\n",
              "      <td>164</td>\n",
              "      <td>179</td>\n",
              "    </tr>\n",
              "  </tbody>\n",
              "</table>\n",
              "<p>5 rows × 785 columns</p>\n",
              "</div>\n",
              "      <button class=\"colab-df-convert\" onclick=\"convertToInteractive('df-b0c2be72-b2b6-4896-a80b-260f367bc02a')\"\n",
              "              title=\"Convert this dataframe to an interactive table.\"\n",
              "              style=\"display:none;\">\n",
              "        \n",
              "  <svg xmlns=\"http://www.w3.org/2000/svg\" height=\"24px\"viewBox=\"0 0 24 24\"\n",
              "       width=\"24px\">\n",
              "    <path d=\"M0 0h24v24H0V0z\" fill=\"none\"/>\n",
              "    <path d=\"M18.56 5.44l.94 2.06.94-2.06 2.06-.94-2.06-.94-.94-2.06-.94 2.06-2.06.94zm-11 1L8.5 8.5l.94-2.06 2.06-.94-2.06-.94L8.5 2.5l-.94 2.06-2.06.94zm10 10l.94 2.06.94-2.06 2.06-.94-2.06-.94-.94-2.06-.94 2.06-2.06.94z\"/><path d=\"M17.41 7.96l-1.37-1.37c-.4-.4-.92-.59-1.43-.59-.52 0-1.04.2-1.43.59L10.3 9.45l-7.72 7.72c-.78.78-.78 2.05 0 2.83L4 21.41c.39.39.9.59 1.41.59.51 0 1.02-.2 1.41-.59l7.78-7.78 2.81-2.81c.8-.78.8-2.07 0-2.86zM5.41 20L4 18.59l7.72-7.72 1.47 1.35L5.41 20z\"/>\n",
              "  </svg>\n",
              "      </button>\n",
              "      \n",
              "  <style>\n",
              "    .colab-df-container {\n",
              "      display:flex;\n",
              "      flex-wrap:wrap;\n",
              "      gap: 12px;\n",
              "    }\n",
              "\n",
              "    .colab-df-convert {\n",
              "      background-color: #E8F0FE;\n",
              "      border: none;\n",
              "      border-radius: 50%;\n",
              "      cursor: pointer;\n",
              "      display: none;\n",
              "      fill: #1967D2;\n",
              "      height: 32px;\n",
              "      padding: 0 0 0 0;\n",
              "      width: 32px;\n",
              "    }\n",
              "\n",
              "    .colab-df-convert:hover {\n",
              "      background-color: #E2EBFA;\n",
              "      box-shadow: 0px 1px 2px rgba(60, 64, 67, 0.3), 0px 1px 3px 1px rgba(60, 64, 67, 0.15);\n",
              "      fill: #174EA6;\n",
              "    }\n",
              "\n",
              "    [theme=dark] .colab-df-convert {\n",
              "      background-color: #3B4455;\n",
              "      fill: #D2E3FC;\n",
              "    }\n",
              "\n",
              "    [theme=dark] .colab-df-convert:hover {\n",
              "      background-color: #434B5C;\n",
              "      box-shadow: 0px 1px 3px 1px rgba(0, 0, 0, 0.15);\n",
              "      filter: drop-shadow(0px 1px 2px rgba(0, 0, 0, 0.3));\n",
              "      fill: #FFFFFF;\n",
              "    }\n",
              "  </style>\n",
              "\n",
              "      <script>\n",
              "        const buttonEl =\n",
              "          document.querySelector('#df-b0c2be72-b2b6-4896-a80b-260f367bc02a button.colab-df-convert');\n",
              "        buttonEl.style.display =\n",
              "          google.colab.kernel.accessAllowed ? 'block' : 'none';\n",
              "\n",
              "        async function convertToInteractive(key) {\n",
              "          const element = document.querySelector('#df-b0c2be72-b2b6-4896-a80b-260f367bc02a');\n",
              "          const dataTable =\n",
              "            await google.colab.kernel.invokeFunction('convertToInteractive',\n",
              "                                                     [key], {});\n",
              "          if (!dataTable) return;\n",
              "\n",
              "          const docLinkHtml = 'Like what you see? Visit the ' +\n",
              "            '<a target=\"_blank\" href=https://colab.research.google.com/notebooks/data_table.ipynb>data table notebook</a>'\n",
              "            + ' to learn more about interactive tables.';\n",
              "          element.innerHTML = '';\n",
              "          dataTable['output_type'] = 'display_data';\n",
              "          await google.colab.output.renderOutput(dataTable, element);\n",
              "          const docLink = document.createElement('div');\n",
              "          docLink.innerHTML = docLinkHtml;\n",
              "          element.appendChild(docLink);\n",
              "        }\n",
              "      </script>\n",
              "    </div>\n",
              "  </div>\n",
              "  "
            ],
            "text/plain": [
              "   label  pixel1  pixel2  pixel3  pixel4  pixel5  pixel6  pixel7  pixel8  \\\n",
              "0      3     107     118     127     134     139     143     146     150   \n",
              "1      6     155     157     156     156     156     157     156     158   \n",
              "2      2     187     188     188     187     187     186     187     188   \n",
              "3      2     211     211     212     212     211     210     211     210   \n",
              "4     13     164     167     170     172     176     179     180     184   \n",
              "\n",
              "   pixel9  ...  pixel775  pixel776  pixel777  pixel778  pixel779  pixel780  \\\n",
              "0     153  ...       207       207       207       207       206       206   \n",
              "1     158  ...        69       149       128        87        94       163   \n",
              "2     187  ...       202       201       200       199       198       199   \n",
              "3     210  ...       235       234       233       231       230       226   \n",
              "4     185  ...        92       105       105       108       133       163   \n",
              "\n",
              "   pixel781  pixel782  pixel783  pixel784  \n",
              "0       206       204       203       202  \n",
              "1       175       103       135       149  \n",
              "2       198       195       194       195  \n",
              "3       225       222       229       163  \n",
              "4       157       163       164       179  \n",
              "\n",
              "[5 rows x 785 columns]"
            ]
          },
          "execution_count": 4,
          "metadata": {},
          "output_type": "execute_result"
        }
      ],
      "source": [
        "from google.colab import drive\n",
        "drive.mount('/content/drive')\n",
        "train = pd.read_csv('../content/drive/MyDrive/xpro/sign_mnist_train.csv')\n",
        "test = pd.read_csv('../content/drive/MyDrive/xpro/sign_mnist_test.csv')\n",
        "train.head()"
      ]
    },
    {
      "cell_type": "markdown",
      "metadata": {
        "id": "c7Cg5jy3uiAD"
      },
      "source": []
    },
    {
      "cell_type": "markdown",
      "metadata": {
        "id": "o564d3gcuiFZ"
      },
      "source": [
        "Find the dimension of the dataframe:"
      ]
    },
    {
      "cell_type": "code",
      "execution_count": null,
      "metadata": {
        "colab": {
          "base_uri": "https://localhost:8080/"
        },
        "id": "5arxXt3rug7K",
        "outputId": "8093f967-49a2-497d-9022-c3bec7f35592"
      },
      "outputs": [
        {
          "data": {
            "text/plain": [
              "(27455, 785)"
            ]
          },
          "execution_count": 7,
          "metadata": {},
          "output_type": "execute_result"
        }
      ],
      "source": [
        "train.shape"
      ]
    },
    {
      "cell_type": "markdown",
      "metadata": {
        "id": "yHRmSeQIuxam"
      },
      "source": [
        "The train set is reworked to reduce data size. In particular, all images are in grayscale and their sizes are 28 * 28 pixels."
      ]
    },
    {
      "cell_type": "markdown",
      "metadata": {
        "id": "fipzisOAuzeU"
      },
      "source": [
        "## Data Preprocessing\n",
        "First, start to extract information from the data by looking at labels:"
      ]
    },
    {
      "cell_type": "code",
      "execution_count": null,
      "metadata": {
        "colab": {
          "base_uri": "https://localhost:8080/"
        },
        "id": "C5Z4UzkfumSg",
        "outputId": "36788710-7e40-40ce-e2cb-3d8b834e33c3"
      },
      "outputs": [
        {
          "data": {
            "text/plain": [
              "array([ 0,  1,  2,  3,  4,  5,  6,  7,  8, 10, 11, 12, 13, 14, 15, 16, 17,\n",
              "       18, 19, 20, 21, 22, 23, 24])"
            ]
          },
          "execution_count": 8,
          "metadata": {},
          "output_type": "execute_result"
        }
      ],
      "source": [
        "labels = train['label'].values\n",
        "\n",
        "unique_val = np.array(labels)\n",
        "np.unique(unique_val)"
      ]
    },
    {
      "cell_type": "markdown",
      "metadata": {
        "id": "qprtfUfmu8vy"
      },
      "source": [
        "See if your data is balanced:"
      ]
    },
    {
      "cell_type": "code",
      "execution_count": null,
      "metadata": {
        "colab": {
          "base_uri": "https://localhost:8080/",
          "height": 501
        },
        "id": "mwcPH4n0u52q",
        "outputId": "6cfcae05-f252-407c-eae2-1370749b7c4c"
      },
      "outputs": [
        {
          "data": {
            "text/plain": [
              "<matplotlib.axes._subplots.AxesSubplot at 0x7f03a8e42250>"
            ]
          },
          "execution_count": 9,
          "metadata": {},
          "output_type": "execute_result"
        },
        {
          "data": {
            "image/png": "[encoded data removed]",
            "text/plain": [
              "<Figure size 1296x576 with 1 Axes>"
            ]
          },
          "metadata": {
            "needs_background": "light"
          },
          "output_type": "display_data"
        }
      ],
      "source": [
        "plt.figure(figsize = (18,8))\n",
        "sns.countplot(x =labels)"
      ]
    },
    {
      "cell_type": "markdown",
      "metadata": {
        "id": "d78tN7d7vC5c"
      },
      "source": [
        "As you can see from the plot, all output numbers are about the same.\n",
        "\n",
        "For your CNN network you should create an output array with Label Binarizer from the labels."
      ]
    },
    {
      "cell_type": "code",
      "execution_count": null,
      "metadata": {
        "colab": {
          "base_uri": "https://localhost:8080/"
        },
        "id": "6rLcURc_vBCQ",
        "outputId": "8677ebf1-2ede-48ba-c007-0f601948062f"
      },
      "outputs": [
        {
          "data": {
            "text/plain": [
              "array([[0, 0, 0, ..., 0, 0, 0],\n",
              "       [0, 0, 0, ..., 0, 0, 0],\n",
              "       [0, 0, 1, ..., 0, 0, 0],\n",
              "       ...,\n",
              "       [0, 0, 0, ..., 0, 0, 0],\n",
              "       [0, 0, 0, ..., 0, 0, 0],\n",
              "       [0, 0, 0, ..., 0, 1, 0]])"
            ]
          },
          "execution_count": 10,
          "metadata": {},
          "output_type": "execute_result"
        }
      ],
      "source": [
        "from sklearn.preprocessing import LabelBinarizer\n",
        "label_binrizer = LabelBinarizer()\n",
        "labels = label_binrizer.fit_transform(labels)\n",
        "labels"
      ]
    },
    {
      "cell_type": "markdown",
      "metadata": {
        "id": "dvLU12-9vHql"
      },
      "source": [
        "Now you can drop the label column from the 'train' set and work with the rest of data."
      ]
    },
    {
      "cell_type": "code",
      "execution_count": null,
      "metadata": {
        "id": "jenpNjPIvXlY"
      },
      "outputs": [],
      "source": [
        "train.drop('label', axis = 1, inplace = True)"
      ]
    },
    {
      "cell_type": "markdown",
      "metadata": {
        "id": "05cFScs2vZSI"
      },
      "source": [
        "Now take out the image information from the train object and put it into a numpy array. What is the data type? What are the range and dimensions?"
      ]
    },
    {
      "cell_type": "code",
      "execution_count": null,
      "metadata": {
        "colab": {
          "base_uri": "https://localhost:8080/"
        },
        "id": "pun0X7zMvkYl",
        "outputId": "6bff84d2-a9f8-4d8a-c5ee-8ff90f422beb"
      },
      "outputs": [
        {
          "name": "stdout",
          "output_type": "stream",
          "text": [
            "int64 0 255 (27455, 784)\n"
          ]
        }
      ],
      "source": [
        "images = train.values\n",
        "print(images.dtype, np.round(images.min(), 4), np.round(images.max(), 4), images.shape)"
      ]
    },
    {
      "cell_type": "markdown",
      "metadata": {
        "id": "rrU9M7YIvnCc"
      },
      "source": [
        "Display the provided images in the first 5 rows:"
      ]
    },
    {
      "cell_type": "code",
      "execution_count": null,
      "metadata": {
        "colab": {
          "base_uri": "https://localhost:8080/",
          "height": 276
        },
        "id": "O8E_UPGSvoxy",
        "outputId": "ff0c7f9e-dd64-4404-8e65-ecbd0f8a5b09"
      },
      "outputs": [
        {
          "data": {
            "text/plain": [
              "Text(0.5, 0.98, 'Grayscale images')"
            ]
          },
          "execution_count": 13,
          "metadata": {},
          "output_type": "execute_result"
        },
        {
          "data": {
            "image/png": "[encoded data removed]",
            "text/plain": [
              "<Figure size 1080x288 with 5 Axes>"
            ]
          },
          "metadata": {},
          "output_type": "display_data"
        }
      ],
      "source": [
        "plt.style.use('grayscale')\n",
        "fig, axs = plt.subplots(1, 5, figsize=(15, 4), sharey=True)\n",
        "for i in range(5):\n",
        "        axs[i].imshow(images[i].reshape(28,28))\n",
        "fig.suptitle('Grayscale images')"
      ]
    },
    {
      "cell_type": "markdown",
      "metadata": {
        "id": "Pf9dNNYgvy-F"
      },
      "source": [
        "Normalize the data before applying the CNN. The data values range from 0 to 255, so you should normalize and divide every entry by 225:"
      ]
    },
    {
      "cell_type": "code",
      "execution_count": null,
      "metadata": {
        "id": "D9XXbsGxvyGk"
      },
      "outputs": [],
      "source": [
        "images =  images/255"
      ]
    },
    {
      "cell_type": "markdown",
      "metadata": {
        "id": "MHA18nhmv8GM"
      },
      "source": [
        "For validation during a model fitting you will need to divide your train set into two parts:"
      ]
    },
    {
      "cell_type": "code",
      "execution_count": null,
      "metadata": {
        "id": "JJKwOg0EwBOg"
      },
      "outputs": [],
      "source": [
        "from sklearn.model_selection import train_test_split\n",
        "x_train, x_test, y_train, y_test = train_test_split(images, labels, test_size = 0.3, stratify = labels, random_state = 7)"
      ]
    },
    {
      "cell_type": "markdown",
      "metadata": {
        "id": "zstyYdVywGTq"
      },
      "source": [
        "Now reshape the rows as square tables in order to use a Convolution Neural Network method:"
      ]
    },
    {
      "cell_type": "code",
      "execution_count": null,
      "metadata": {
        "id": "57eRkUkpwFba"
      },
      "outputs": [],
      "source": [
        "x_train = x_train.reshape(x_train.shape[0], 28, 28, 1)\n",
        "x_test = x_test.reshape(x_test.shape[0], 28, 28, 1)"
      ]
    },
    {
      "cell_type": "markdown",
      "metadata": {
        "id": "CME1BPncwUJL"
      },
      "source": [
        "## Convolutional Neural Network Model, or CNN\n",
        "\n",
        "For CNN, use the following Keras library:"
      ]
    },
    {
      "cell_type": "code",
      "execution_count": null,
      "metadata": {
        "id": "wtI1gS_Iwcz8"
      },
      "outputs": [],
      "source": [
        "import keras\n",
        "from keras.models import Sequential\n",
        "from keras.layers import Dense, Conv2D, MaxPooling2D, Flatten, Dropout"
      ]
    },
    {
      "cell_type": "markdown",
      "metadata": {
        "id": "9uko0lgvwftW"
      },
      "source": [
        "Set a number of classes, a batch size and a number of epochs:"
      ]
    },
    {
      "cell_type": "code",
      "execution_count": null,
      "metadata": {
        "id": "XhixqUESwhzF"
      },
      "outputs": [],
      "source": [
        "num_classes = 24\n",
        "batch_size = 125\n",
        "epochs = 50\n",
        "\n",
        "model = Sequential()\n",
        "model.add(Conv2D(64, kernel_size=(4,4), activation = 'relu', input_shape=(28, 28 ,1), padding='same' ))\n",
        "model.add(Dropout(0.4))\n",
        "model.add(MaxPooling2D(pool_size = (2, 2)))\n",
        "\n",
        "model.add(Conv2D(64, kernel_size = (4, 4), activation = 'relu', padding='same' ))\n",
        "model.add(Dropout(0.4))\n",
        "model.add(MaxPooling2D(pool_size = (2, 2)))\n",
        "\n",
        "model.add(Conv2D(64, kernel_size = (3, 3), activation = 'relu'))\n",
        "model.add(Dropout(0.4))\n",
        "model.add(MaxPooling2D(pool_size = (2, 2)))\n",
        "\n",
        "model.add(Flatten())\n",
        "model.add(Dense(128, activation = 'relu'))\n",
        "model.add(Dense(num_classes, activation = 'softmax'))\n",
        "model.compile(loss = keras.losses.categorical_crossentropy, optimizer='nadam',\n",
        "              metrics=['accuracy'])\n"
      ]
    },
    {
      "cell_type": "markdown",
      "metadata": {
        "id": "g1oiB0UxwojM"
      },
      "source": [
        "This part is for image augmentation during model fitting\n",
        "\n",
        "###Try adjusting these parameters and observe the difference in results"
      ]
    },
    {
      "cell_type": "code",
      "execution_count": null,
      "metadata": {
        "id": "gMlIPLa-wntk"
      },
      "outputs": [],
      "source": [
        "from keras.preprocessing.image import ImageDataGenerator\n",
        "train_datagen = ImageDataGenerator(shear_range = 0.25,\n",
        "                                   zoom_range = 0.15,\n",
        "                                   rotation_range = 15,\n",
        "                                   brightness_range = [0.15, 1.15],\n",
        "                                   width_shift_range = [-2,-1, 0, +1, +2],\n",
        "                                   height_shift_range = [ -1, 0, +1],\n",
        "                                   fill_mode = 'reflect')\n",
        "test_datagen = ImageDataGenerator()"
      ]
    },
    {
      "cell_type": "code",
      "execution_count": null,
      "metadata": {
        "colab": {
          "base_uri": "https://localhost:8080/"
        },
        "id": "u0kqk6ORwtP0",
        "outputId": "84a1726e-6211-4358-e10b-0dc4b657d55e"
      },
      "outputs": [
        {
          "name": "stdout",
          "output_type": "stream",
          "text": [
            "Epoch 1/50\n",
            "154/154 [==============================] - 115s 708ms/step - loss: 2.1049 - accuracy: 0.3529 - val_loss: 1.6442 - val_accuracy: 0.7682\n",
            "Epoch 2/50\n",
            "154/154 [==============================] - 103s 663ms/step - loss: 0.6586 - accuracy: 0.7792 - val_loss: 0.9499 - val_accuracy: 0.9153\n",
            "Epoch 3/50\n",
            "154/154 [==============================] - 102s 662ms/step - loss: 0.3368 - accuracy: 0.8845 - val_loss: 0.5989 - val_accuracy: 0.9812\n",
            "Epoch 4/50\n",
            "154/154 [==============================] - 102s 661ms/step - loss: 0.2083 - accuracy: 0.9311 - val_loss: 0.4192 - val_accuracy: 0.9922\n",
            "Epoch 5/50\n",
            "154/154 [==============================] - 103s 672ms/step - loss: 0.1410 - accuracy: 0.9517 - val_loss: 0.3022 - val_accuracy: 0.9951\n",
            "Epoch 6/50\n",
            "154/154 [==============================] - 101s 658ms/step - loss: 0.0974 - accuracy: 0.9686 - val_loss: 0.2509 - val_accuracy: 0.9972\n",
            "Epoch 7/50\n",
            "154/154 [==============================] - 101s 659ms/step - loss: 0.0803 - accuracy: 0.9740 - val_loss: 0.2028 - val_accuracy: 0.9988\n",
            "Epoch 8/50\n",
            "154/154 [==============================] - 101s 659ms/step - loss: 0.0630 - accuracy: 0.9798 - val_loss: 0.1635 - val_accuracy: 0.9999\n",
            "Epoch 9/50\n",
            "154/154 [==============================] - 95s 620ms/step - loss: 0.0495 - accuracy: 0.9849 - val_loss: 0.1233 - val_accuracy: 1.0000\n",
            "Epoch 10/50\n",
            "154/154 [==============================] - 96s 621ms/step - loss: 0.0457 - accuracy: 0.9855 - val_loss: 0.1091 - val_accuracy: 1.0000\n",
            "Epoch 11/50\n",
            "154/154 [==============================] - 95s 618ms/step - loss: 0.0391 - accuracy: 0.9879 - val_loss: 0.1069 - val_accuracy: 0.9995\n",
            "Epoch 12/50\n",
            "154/154 [==============================] - 95s 620ms/step - loss: 0.0350 - accuracy: 0.9892 - val_loss: 0.0908 - val_accuracy: 1.0000\n",
            "Epoch 13/50\n",
            "154/154 [==============================] - 98s 637ms/step - loss: 0.0340 - accuracy: 0.9881 - val_loss: 0.0788 - val_accuracy: 1.0000\n",
            "Epoch 14/50\n",
            "154/154 [==============================] - 95s 617ms/step - loss: 0.0283 - accuracy: 0.9914 - val_loss: 0.0742 - val_accuracy: 1.0000\n",
            "Epoch 15/50\n",
            "154/154 [==============================] - 95s 617ms/step - loss: 0.0258 - accuracy: 0.9918 - val_loss: 0.0539 - val_accuracy: 0.9999\n",
            "Epoch 16/50\n",
            "154/154 [==============================] - 95s 619ms/step - loss: 0.0265 - accuracy: 0.9911 - val_loss: 0.0551 - val_accuracy: 1.0000\n",
            "Epoch 17/50\n",
            "154/154 [==============================] - 98s 637ms/step - loss: 0.0240 - accuracy: 0.9922 - val_loss: 0.0470 - val_accuracy: 1.0000\n",
            "Epoch 18/50\n",
            "154/154 [==============================] - 98s 638ms/step - loss: 0.0208 - accuracy: 0.9938 - val_loss: 0.0469 - val_accuracy: 1.0000\n",
            "Epoch 19/50\n",
            "154/154 [==============================] - 96s 621ms/step - loss: 0.0205 - accuracy: 0.9932 - val_loss: 0.0391 - val_accuracy: 1.0000\n",
            "Epoch 20/50\n",
            "154/154 [==============================] - 98s 639ms/step - loss: 0.0208 - accuracy: 0.9932 - val_loss: 0.0560 - val_accuracy: 0.9999\n",
            "Epoch 21/50\n",
            "154/154 [==============================] - 100s 648ms/step - loss: 0.0205 - accuracy: 0.9931 - val_loss: 0.0305 - val_accuracy: 1.0000\n",
            "Epoch 22/50\n",
            "154/154 [==============================] - 100s 645ms/step - loss: 0.0173 - accuracy: 0.9938 - val_loss: 0.0333 - val_accuracy: 0.9996\n",
            "Epoch 23/50\n",
            "154/154 [==============================] - 100s 647ms/step - loss: 0.0180 - accuracy: 0.9944 - val_loss: 0.0325 - val_accuracy: 1.0000\n",
            "Epoch 24/50\n",
            "154/154 [==============================] - 102s 660ms/step - loss: 0.0158 - accuracy: 0.9951 - val_loss: 0.0292 - val_accuracy: 1.0000\n",
            "Epoch 25/50\n",
            "154/154 [==============================] - 98s 639ms/step - loss: 0.0172 - accuracy: 0.9943 - val_loss: 0.0353 - val_accuracy: 0.9988\n",
            "Epoch 26/50\n",
            "154/154 [==============================] - 97s 629ms/step - loss: 0.0185 - accuracy: 0.9938 - val_loss: 0.0285 - val_accuracy: 0.9999\n",
            "Epoch 27/50\n",
            "154/154 [==============================] - 95s 620ms/step - loss: 0.0150 - accuracy: 0.9952 - val_loss: 0.0244 - val_accuracy: 1.0000\n",
            "Epoch 28/50\n",
            "154/154 [==============================] - 99s 647ms/step - loss: 0.0161 - accuracy: 0.9947 - val_loss: 0.0232 - val_accuracy: 1.0000\n",
            "Epoch 29/50\n",
            "154/154 [==============================] - 102s 661ms/step - loss: 0.0202 - accuracy: 0.9939 - val_loss: 0.0313 - val_accuracy: 1.0000\n",
            "Epoch 30/50\n",
            "154/154 [==============================] - 97s 632ms/step - loss: 0.0115 - accuracy: 0.9959 - val_loss: 0.0121 - val_accuracy: 1.0000\n",
            "Epoch 31/50\n",
            "154/154 [==============================] - 100s 649ms/step - loss: 0.0134 - accuracy: 0.9954 - val_loss: 0.0215 - val_accuracy: 0.9999\n",
            "Epoch 32/50\n",
            "154/154 [==============================] - 98s 637ms/step - loss: 0.0140 - accuracy: 0.9952 - val_loss: 0.0159 - val_accuracy: 1.0000\n",
            "Epoch 33/50\n",
            "154/154 [==============================] - 95s 619ms/step - loss: 0.0114 - accuracy: 0.9961 - val_loss: 0.0160 - val_accuracy: 1.0000\n",
            "Epoch 34/50\n",
            "154/154 [==============================] - 98s 635ms/step - loss: 0.0185 - accuracy: 0.9938 - val_loss: 0.0219 - val_accuracy: 1.0000\n",
            "Epoch 35/50\n",
            "154/154 [==============================] - 98s 635ms/step - loss: 0.0116 - accuracy: 0.9965 - val_loss: 0.0155 - val_accuracy: 1.0000\n",
            "Epoch 36/50\n",
            "154/154 [==============================] - 99s 644ms/step - loss: 0.0141 - accuracy: 0.9954 - val_loss: 0.0182 - val_accuracy: 0.9999\n",
            "Epoch 37/50\n",
            "154/154 [==============================] - 100s 649ms/step - loss: 0.0139 - accuracy: 0.9954 - val_loss: 0.0120 - val_accuracy: 1.0000\n",
            "Epoch 38/50\n",
            "154/154 [==============================] - 99s 641ms/step - loss: 0.0147 - accuracy: 0.9954 - val_loss: 0.0149 - val_accuracy: 0.9999\n",
            "Epoch 39/50\n",
            "154/154 [==============================] - 98s 637ms/step - loss: 0.0111 - accuracy: 0.9967 - val_loss: 0.0084 - val_accuracy: 1.0000\n",
            "Epoch 40/50\n",
            "154/154 [==============================] - 99s 646ms/step - loss: 0.0113 - accuracy: 0.9961 - val_loss: 0.0123 - val_accuracy: 0.9998\n",
            "Epoch 41/50\n",
            "154/154 [==============================] - 99s 647ms/step - loss: 0.0083 - accuracy: 0.9970 - val_loss: 0.0107 - val_accuracy: 0.9998\n",
            "Epoch 42/50\n",
            "154/154 [==============================] - 98s 636ms/step - loss: 0.0127 - accuracy: 0.9954 - val_loss: 0.0151 - val_accuracy: 1.0000\n",
            "Epoch 43/50\n",
            "154/154 [==============================] - 95s 618ms/step - loss: 0.0119 - accuracy: 0.9962 - val_loss: 0.0126 - val_accuracy: 1.0000\n",
            "Epoch 44/50\n",
            "154/154 [==============================] - 95s 620ms/step - loss: 0.0147 - accuracy: 0.9950 - val_loss: 0.0121 - val_accuracy: 1.0000\n",
            "Epoch 45/50\n",
            "154/154 [==============================] - 96s 623ms/step - loss: 0.0140 - accuracy: 0.9955 - val_loss: 0.0106 - val_accuracy: 1.0000\n",
            "Epoch 46/50\n",
            "154/154 [==============================] - 96s 622ms/step - loss: 0.0089 - accuracy: 0.9968 - val_loss: 0.0078 - val_accuracy: 0.9994\n",
            "Epoch 47/50\n",
            "154/154 [==============================] - 99s 646ms/step - loss: 0.0079 - accuracy: 0.9976 - val_loss: 0.0051 - val_accuracy: 1.0000\n",
            "Epoch 48/50\n",
            "154/154 [==============================] - 99s 646ms/step - loss: 0.0179 - accuracy: 0.9945 - val_loss: 0.0218 - val_accuracy: 0.9992\n",
            "Epoch 49/50\n",
            "154/154 [==============================] - 100s 647ms/step - loss: 0.0113 - accuracy: 0.9960 - val_loss: 0.0121 - val_accuracy: 1.0000\n",
            "Epoch 50/50\n",
            "154/154 [==============================] - 100s 651ms/step - loss: 0.0095 - accuracy: 0.9969 - val_loss: 0.0063 - val_accuracy: 1.0000\n"
          ]
        }
      ],
      "source": [
        "history = model.fit(x_train, y_train, validation_data = (x_test, y_test), epochs=epochs, batch_size=batch_size)"
      ]
    },
    {
      "cell_type": "code",
      "execution_count": null,
      "metadata": {
        "colab": {
          "base_uri": "https://localhost:8080/",
          "height": 240
        },
        "id": "oLKhdoTDwwGG",
        "outputId": "01647220-0e0a-407f-c92c-c9fbf9fee2b5"
      },
      "outputs": [
        {
          "ename": "NameError",
          "evalue": "ignored",
          "output_type": "error",
          "traceback": [
            "\u001b[0;31m---------------------------------------------------------------------------\u001b[0m",
            "\u001b[0;31mNameError\u001b[0m                                 Traceback (most recent call last)",
            "\u001b[0;32m<ipython-input-1-fcc24d41a73a>\u001b[0m in \u001b[0;36m<module>\u001b[0;34m\u001b[0m\n\u001b[0;32m----> 1\u001b[0;31m \u001b[0mplt\u001b[0m\u001b[0;34m.\u001b[0m\u001b[0mstyle\u001b[0m\u001b[0;34m.\u001b[0m\u001b[0muse\u001b[0m\u001b[0;34m(\u001b[0m\u001b[0;34m'tableau-colorblind10'\u001b[0m\u001b[0;34m)\u001b[0m\u001b[0;34m\u001b[0m\u001b[0;34m\u001b[0m\u001b[0m\n\u001b[0m\u001b[1;32m      2\u001b[0m \u001b[0mplt\u001b[0m\u001b[0;34m.\u001b[0m\u001b[0mplot\u001b[0m\u001b[0;34m(\u001b[0m\u001b[0mhistory\u001b[0m\u001b[0;34m.\u001b[0m\u001b[0mhistory\u001b[0m\u001b[0;34m[\u001b[0m\u001b[0;34m'acc'\u001b[0m\u001b[0;34m]\u001b[0m\u001b[0;34m)\u001b[0m\u001b[0;34m\u001b[0m\u001b[0;34m\u001b[0m\u001b[0m\n\u001b[1;32m      3\u001b[0m \u001b[0mplt\u001b[0m\u001b[0;34m.\u001b[0m\u001b[0mplot\u001b[0m\u001b[0;34m(\u001b[0m\u001b[0mhistory\u001b[0m\u001b[0;34m.\u001b[0m\u001b[0mhistory\u001b[0m\u001b[0;34m[\u001b[0m\u001b[0;34m'val_acc'\u001b[0m\u001b[0;34m]\u001b[0m\u001b[0;34m)\u001b[0m\u001b[0;34m\u001b[0m\u001b[0;34m\u001b[0m\u001b[0m\n\u001b[1;32m      4\u001b[0m \u001b[0mplt\u001b[0m\u001b[0;34m.\u001b[0m\u001b[0mylim\u001b[0m\u001b[0;34m(\u001b[0m\u001b[0;36m0.80\u001b[0m\u001b[0;34m,\u001b[0m \u001b[0;36m1.05\u001b[0m\u001b[0;34m)\u001b[0m\u001b[0;34m\u001b[0m\u001b[0;34m\u001b[0m\u001b[0m\n\u001b[1;32m      5\u001b[0m \u001b[0mplt\u001b[0m\u001b[0;34m.\u001b[0m\u001b[0mtitle\u001b[0m\u001b[0;34m(\u001b[0m\u001b[0;34m\"Accuracy\"\u001b[0m\u001b[0;34m)\u001b[0m\u001b[0;34m\u001b[0m\u001b[0;34m\u001b[0m\u001b[0m\n",
            "\u001b[0;31mNameError\u001b[0m: name 'plt' is not defined"
          ]
        }
      ],
      "source": [
        "plt.style.use('tableau-colorblind10')\n",
        "plt.plot(history.history['acc'])\n",
        "plt.plot(history.history['val_acc'])\n",
        "plt.ylim(0.80, 1.05)\n",
        "plt.title(\"Accuracy\")\n",
        "plt.xlabel('epoch')\n",
        "plt.ylabel('accuracy')\n",
        "plt.legend(['train','test'])\n",
        "plt.show()"
      ]
    },
    {
      "cell_type": "markdown",
      "metadata": {
        "id": "s6AGmYm3wyDG"
      },
      "source": [
        "Validate with the test data. At first it must be preprocessed in the same way as the data for model fitting. This means that you must remove its label column, divide all values by 225, and the rows should be reshaped as square arrays."
      ]
    },
    {
      "cell_type": "code",
      "execution_count": null,
      "metadata": {
        "id": "8ozN-52ow0kn"
      },
      "outputs": [],
      "source": [
        "test_labels = test['label']\n",
        "test.drop('label', axis = 1, inplace = True)\n",
        "test_images = test.values/255\n",
        "test_images = np.array([np.reshape(i, (28, 28)) for i in test_images])\n",
        "test_images = np.array([i.flatten() for i in test_images])\n",
        "test_labels = label_binrizer.fit_transform(test_labels)\n",
        "test_images = test_images.reshape(test_images.shape[0], 28, 28, 1)\n",
        "test_images.shape"
      ]
    },
    {
      "cell_type": "markdown",
      "metadata": {
        "id": "voIaPaLTw2n7"
      },
      "source": [
        "Here are the predictions and accuracy of the provided test set."
      ]
    },
    {
      "cell_type": "code",
      "execution_count": null,
      "metadata": {
        "id": "TRStT1ezw4kY"
      },
      "outputs": [],
      "source": [
        "y_pred = model.predict(test_images)\n",
        "from sklearn.metrics import accuracy_score\n",
        "y_pred = y_pred.round()\n",
        "accuracy_score(test_labels, y_pred)"
      ]
    }
  ],
  "metadata": {
    "colab": {
      "provenance": [],
      "include_colab_link": true
    },
    "kernelspec": {
      "display_name": "Python 3",
      "language": "python",
      "name": "python3"
    },
    "language_info": {
      "codemirror_mode": {
        "name": "ipython",
        "version": 3
      },
      "file_extension": ".py",
      "mimetype": "text/x-python",
      "name": "python",
      "nbconvert_exporter": "python",
      "pygments_lexer": "ipython3",
      "version": "3.6.9"
    }
  },
  "nbformat": 4,
  "nbformat_minor": 0
}