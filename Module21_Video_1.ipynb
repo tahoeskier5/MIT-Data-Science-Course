{
  "cells": [
    {
      "cell_type": "markdown",
      "metadata": {
        "id": "view-in-github",
        "colab_type": "text"
      },
      "source": [
        "<a href=\"https://colab.research.google.com/github/tahoeskier5/MIT-Data-Science-Course/blob/main/Module21_Video_1.ipynb\" target=\"_parent\"><img src=\"https://colab.research.google.com/assets/colab-badge.svg\" alt=\"Open In Colab\"/></a>"
      ]
    },
    {
      "cell_type": "markdown",
      "metadata": {
        "id": "pLgwRLZiMVJv"
      },
      "source": [
        "# Deep Learning for Text - Encoder Models"
      ]
    },
    {
      "cell_type": "markdown",
      "metadata": {
        "id": "XmxYrFl9m1hM"
      },
      "source": [
        "## Introduction"
      ]
    },
    {
      "cell_type": "markdown",
      "metadata": {
        "id": "Wj53iy-WKMhu"
      },
      "source": [
        "\n",
        "\n",
        "In the previous module we studied an application of NLP that consisted essentially in classifying text. We saw that bag of words and bigrams (with a bit of help of word embeddings) were very useful for this task. In this module we will focus on a different class of task for which we'll need to develop different models and neural network architectures.\n",
        "\n",
        "The type of tasks we are thinking about involve:\n",
        "- \"What should be the next word in this incomplete sentence?\" (language modeling)\n",
        "- \"What are the components of a sentence?\" (Named Entity Recognition)\n",
        "- \"What's the purpose of a query?\" (Intent Prediction)\n",
        "- \"What are the key words in query?\" (Slot Filing)\n",
        "\n",
        "In this notebook we will the last two task above. Natural Language Understanding (NLU), the technology behind conversational AI (chatbots, virtual assistant, augmented analytics) typically includes the intent classification and slot filling tasks, aiming to provide a semantic tool for user utterances. Intent classification focuses on predicting the intent of the query, while slot filling extracts semantic concepts in the query. For example the user query could be “Find me an action movie by Steven Spielberg”. The intent here is “find_movie” while the slots are “genre” with value “action” and “directed_by” with value “Steven Spielberg”.\n",
        "\n",
        "For this module we will use the ATIS dataset which includes queries from people trying to find flight tickets between two destinations. The task will be to read this raw query and understand i) what is the intent of the query (find availability of flight, duration of flight, ground transportation service), and ii) what are components or slots of that query (which airports or cities, what days and time)."
      ]
    },
    {
      "cell_type": "markdown",
      "metadata": {
        "id": "3899YULkO2is"
      },
      "source": [
        "## Data Preprocessing\n"
      ]
    },
    {
      "cell_type": "markdown",
      "metadata": {
        "id": "xgv9-wh2i-eg"
      },
      "source": [
        "\n",
        "Let's begin extracting the data from the ATIS dataset and turning into a form that we can use in our Deep Learning models.\n",
        "\n",
        "The ATIS dataset is standard benchmark dataset widely used to build models for intent classification and slot filling tasks (we will explain all this shortly). You can find a very detailed explanation [here](https://catalog.ldc.upenn.edu/docs/LDC93S4B/corpus.html).\n",
        "\n",
        "We will begin by loading the file and then partitioning into a test and a training set."
      ]
    },
    {
      "cell_type": "code",
      "execution_count": null,
      "metadata": {
        "id": "7rJh-xXx4jgD"
      },
      "outputs": [],
      "source": [
        "import pandas as pd\n",
        "import numpy as np\n",
        "import pickle\n",
        "import os\n",
        "import matplotlib.pyplot as plt\n",
        "\n",
        "import tensorflow as tf\n",
        "from tensorflow import keras\n",
        "\n",
        "from google.colab import drive\n",
        "\n",
        "keras.utils.set_random_seed(42)"
      ]
    },
    {
      "cell_type": "code",
      "execution_count": null,
      "metadata": {
        "colab": {
          "base_uri": "https://localhost:8080/"
        },
        "id": "muYUY4P67rma",
        "outputId": "7e84cb5f-7ad9-47b2-c6f3-db5260910cac"
      },
      "outputs": [
        {
          "name": "stdout",
          "output_type": "stream",
          "text": [
            "Mounted at /content/drive\n"
          ]
        }
      ],
      "source": [
        "drive.mount('/content/drive')\n",
        "df_train = pd.read_csv('/content/drive/MyDrive/XPro/atis_train_data.csv')\n",
        "df_test = pd.read_csv('/content/drive/MyDrive/XPro/atis_test_data.csv')"
      ]
    },
    {
      "cell_type": "markdown",
      "metadata": {
        "id": "WBciCu0YP_Sg"
      },
      "source": [
        "Let's visualize all of this on a dataframe. Below we display an example query for each intent class in a nice layout.\n",
        "\n",
        "The first column of the Dataframe below contains the actual query that was asked. The second column indicates the intent (flight, flight time, etc), whereas the last column contains the slot filling structure."
      ]
    },
    {
      "cell_type": "code",
      "execution_count": null,
      "metadata": {
        "colab": {
          "base_uri": "https://localhost:8080/",
          "height": 1000
        },
        "id": "vLhrFAkw4yTF",
        "outputId": "83fd001a-7464-4995-936b-6562b52fb143"
      },
      "outputs": [
        {
          "name": "stderr",
          "output_type": "stream",
          "text": [
            "<ipython-input-3-a33faa3ccad2>:1: FutureWarning: Passing a negative integer is deprecated in version 1.0 and will not be supported in future version. Instead, use None to not limit the column width.\n",
            "  pd.set_option('display.max_colwidth', -1)\n"
          ]
        },
        {
          "data": {
            "text/html": [
              "\n",
              "  <div id=\"df-3791abc2-1f2c-4243-b934-f6ef7947aa2d\">\n",
              "    <div class=\"colab-df-container\">\n",
              "      <div>\n",
              "<style scoped>\n",
              "    .dataframe tbody tr th:only-of-type {\n",
              "        vertical-align: middle;\n",
              "    }\n",
              "\n",
              "    .dataframe tbody tr th {\n",
              "        vertical-align: top;\n",
              "    }\n",
              "\n",
              "    .dataframe thead th {\n",
              "        text-align: right;\n",
              "    }\n",
              "</style>\n",
              "<table border=\"1\" class=\"dataframe\">\n",
              "  <thead>\n",
              "    <tr style=\"text-align: right;\">\n",
              "      <th></th>\n",
              "      <th>query</th>\n",
              "      <th>intent</th>\n",
              "      <th>slot filling</th>\n",
              "    </tr>\n",
              "  </thead>\n",
              "  <tbody>\n",
              "    <tr>\n",
              "      <th>0</th>\n",
              "      <td>i want to fly from boston at 838 am and arrive in denver at 1110 in the morning</td>\n",
              "      <td>flight</td>\n",
              "      <td>O O O O O B-fromloc.city_name O B-depart_time.time I-depart_time.time O O O B-toloc.city_name O B-arrive_time.time O O B-arrive_time.period_of_day</td>\n",
              "    </tr>\n",
              "    <tr>\n",
              "      <th>1</th>\n",
              "      <td>what is the arrival time in san francisco for the 755 am flight leaving washington</td>\n",
              "      <td>flight_time</td>\n",
              "      <td>O O O B-flight_time I-flight_time O B-fromloc.city_name I-fromloc.city_name O O B-depart_time.time I-depart_time.time O O B-fromloc.city_name</td>\n",
              "    </tr>\n",
              "    <tr>\n",
              "      <th>2</th>\n",
              "      <td>cheapest airfare from tacoma to orlando</td>\n",
              "      <td>airfare</td>\n",
              "      <td>B-cost_relative O O B-fromloc.city_name O B-toloc.city_name</td>\n",
              "    </tr>\n",
              "    <tr>\n",
              "      <th>3</th>\n",
              "      <td>what kind of aircraft is used on a flight from cleveland to dallas</td>\n",
              "      <td>aircraft</td>\n",
              "      <td>O O O O O O O O O O B-fromloc.city_name O B-toloc.city_name</td>\n",
              "    </tr>\n",
              "    <tr>\n",
              "      <th>4</th>\n",
              "      <td>what kind of ground transportation is available in denver</td>\n",
              "      <td>ground_service</td>\n",
              "      <td>O O O O O O O O B-city_name</td>\n",
              "    </tr>\n",
              "    <tr>\n",
              "      <th>5</th>\n",
              "      <td>what 's the airport at orlando</td>\n",
              "      <td>airport</td>\n",
              "      <td>O O O O O B-city_name</td>\n",
              "    </tr>\n",
              "    <tr>\n",
              "      <th>6</th>\n",
              "      <td>which airline serves denver pittsburgh and atlanta</td>\n",
              "      <td>airline</td>\n",
              "      <td>O O O B-fromloc.city_name B-fromloc.city_name O B-fromloc.city_name</td>\n",
              "    </tr>\n",
              "    <tr>\n",
              "      <th>7</th>\n",
              "      <td>how far is it from orlando airport to orlando</td>\n",
              "      <td>distance</td>\n",
              "      <td>O O O O O B-fromloc.airport_name I-fromloc.airport_name O B-toloc.city_name</td>\n",
              "    </tr>\n",
              "    <tr>\n",
              "      <th>8</th>\n",
              "      <td>what is fare code h</td>\n",
              "      <td>abbreviation</td>\n",
              "      <td>O O O O B-fare_basis_code</td>\n",
              "    </tr>\n",
              "    <tr>\n",
              "      <th>9</th>\n",
              "      <td>how much does the limousine service cost within pittsburgh</td>\n",
              "      <td>ground_fare</td>\n",
              "      <td>O O O O B-transport_type O O O B-city_name</td>\n",
              "    </tr>\n",
              "    <tr>\n",
              "      <th>10</th>\n",
              "      <td>please tell me how many nonstop flights there are from boston to atlanta</td>\n",
              "      <td>quantity</td>\n",
              "      <td>O O O O O B-flight_stop O O O O B-fromloc.city_name O B-toloc.city_name</td>\n",
              "    </tr>\n",
              "    <tr>\n",
              "      <th>11</th>\n",
              "      <td>what city is the airport mco in</td>\n",
              "      <td>city</td>\n",
              "      <td>O O O O O B-fromloc.airport_code O</td>\n",
              "    </tr>\n",
              "    <tr>\n",
              "      <th>12</th>\n",
              "      <td>flight numbers from columbus to minneapolis tomorrow</td>\n",
              "      <td>flight_no</td>\n",
              "      <td>O O O B-fromloc.city_name O B-toloc.city_name B-depart_date.today_relative</td>\n",
              "    </tr>\n",
              "    <tr>\n",
              "      <th>13</th>\n",
              "      <td>how many seats in a 100</td>\n",
              "      <td>capacity</td>\n",
              "      <td>O O O O O B-aircraft_code</td>\n",
              "    </tr>\n",
              "    <tr>\n",
              "      <th>14</th>\n",
              "      <td>give me the flights and fares on december twenty seventh from indianapolis to orlando</td>\n",
              "      <td>flight+airfare</td>\n",
              "      <td>O O O O O O O B-depart_date.month_name B-depart_date.day_number I-depart_date.day_number O B-fromloc.city_name O B-toloc.city_name</td>\n",
              "    </tr>\n",
              "    <tr>\n",
              "      <th>15</th>\n",
              "      <td>show me all meals on flights from atlanta to washington</td>\n",
              "      <td>meal</td>\n",
              "      <td>O O O B-meal O O O B-fromloc.city_name O B-toloc.city_name</td>\n",
              "    </tr>\n",
              "    <tr>\n",
              "      <th>16</th>\n",
              "      <td>what are the air restrictions on flights from pittsburgh to atlanta for the airfare of 416 dollars</td>\n",
              "      <td>restriction</td>\n",
              "      <td>O O O O O O O O B-fromloc.city_name O B-toloc.city_name O O O O B-fare_amount I-fare_amount</td>\n",
              "    </tr>\n",
              "    <tr>\n",
              "      <th>17</th>\n",
              "      <td>airline and flight number from columbus to minneapolis</td>\n",
              "      <td>airline+flight_no</td>\n",
              "      <td>O O O O O B-fromloc.city_name O B-toloc.city_name</td>\n",
              "    </tr>\n",
              "    <tr>\n",
              "      <th>18</th>\n",
              "      <td>what ground transportation is available from the pittsburgh airport to downtown and how much does it cost</td>\n",
              "      <td>ground_service+ground_fare</td>\n",
              "      <td>O O O O O O O B-fromloc.airport_name I-fromloc.airport_name O O O O O O O O</td>\n",
              "    </tr>\n",
              "    <tr>\n",
              "      <th>19</th>\n",
              "      <td>show me the costs and times for flights from san francisco to atlanta</td>\n",
              "      <td>airfare+flight_time</td>\n",
              "      <td>O O O O O B-flight_time O O O B-fromloc.city_name I-fromloc.city_name O B-toloc.city_name</td>\n",
              "    </tr>\n",
              "    <tr>\n",
              "      <th>20</th>\n",
              "      <td>show me the cheapest fare in the database</td>\n",
              "      <td>cheapest</td>\n",
              "      <td>O O O B-cost_relative O O O O</td>\n",
              "    </tr>\n",
              "    <tr>\n",
              "      <th>21</th>\n",
              "      <td>i want to fly from detroit to st. petersburg on northwest airlines and leave around 9 am tell me what aircraft are used by this flight and tell me the flight number</td>\n",
              "      <td>aircraft+flight+flight_no</td>\n",
              "      <td>O O O O O B-fromloc.city_name O B-toloc.city_name I-toloc.city_name O B-airline_name I-airline_name O O B-depart_time.time_relative B-depart_time.time I-depart_time.time O O O O O O O O O O O O O O O</td>\n",
              "    </tr>\n",
              "  </tbody>\n",
              "</table>\n",
              "</div>\n",
              "      <button class=\"colab-df-convert\" onclick=\"convertToInteractive('df-3791abc2-1f2c-4243-b934-f6ef7947aa2d')\"\n",
              "              title=\"Convert this dataframe to an interactive table.\"\n",
              "              style=\"display:none;\">\n",
              "        \n",
              "  <svg xmlns=\"http://www.w3.org/2000/svg\" height=\"24px\"viewBox=\"0 0 24 24\"\n",
              "       width=\"24px\">\n",
              "    <path d=\"M0 0h24v24H0V0z\" fill=\"none\"/>\n",
              "    <path d=\"M18.56 5.44l.94 2.06.94-2.06 2.06-.94-2.06-.94-.94-2.06-.94 2.06-2.06.94zm-11 1L8.5 8.5l.94-2.06 2.06-.94-2.06-.94L8.5 2.5l-.94 2.06-2.06.94zm10 10l.94 2.06.94-2.06 2.06-.94-2.06-.94-.94-2.06-.94 2.06-2.06.94z\"/><path d=\"M17.41 7.96l-1.37-1.37c-.4-.4-.92-.59-1.43-.59-.52 0-1.04.2-1.43.59L10.3 9.45l-7.72 7.72c-.78.78-.78 2.05 0 2.83L4 21.41c.39.39.9.59 1.41.59.51 0 1.02-.2 1.41-.59l7.78-7.78 2.81-2.81c.8-.78.8-2.07 0-2.86zM5.41 20L4 18.59l7.72-7.72 1.47 1.35L5.41 20z\"/>\n",
              "  </svg>\n",
              "      </button>\n",
              "      \n",
              "  <style>\n",
              "    .colab-df-container {\n",
              "      display:flex;\n",
              "      flex-wrap:wrap;\n",
              "      gap: 12px;\n",
              "    }\n",
              "\n",
              "    .colab-df-convert {\n",
              "      background-color: #E8F0FE;\n",
              "      border: none;\n",
              "      border-radius: 50%;\n",
              "      cursor: pointer;\n",
              "      display: none;\n",
              "      fill: #1967D2;\n",
              "      height: 32px;\n",
              "      padding: 0 0 0 0;\n",
              "      width: 32px;\n",
              "    }\n",
              "\n",
              "    .colab-df-convert:hover {\n",
              "      background-color: #E2EBFA;\n",
              "      box-shadow: 0px 1px 2px rgba(60, 64, 67, 0.3), 0px 1px 3px 1px rgba(60, 64, 67, 0.15);\n",
              "      fill: #174EA6;\n",
              "    }\n",
              "\n",
              "    [theme=dark] .colab-df-convert {\n",
              "      background-color: #3B4455;\n",
              "      fill: #D2E3FC;\n",
              "    }\n",
              "\n",
              "    [theme=dark] .colab-df-convert:hover {\n",
              "      background-color: #434B5C;\n",
              "      box-shadow: 0px 1px 3px 1px rgba(0, 0, 0, 0.15);\n",
              "      filter: drop-shadow(0px 1px 2px rgba(0, 0, 0, 0.3));\n",
              "      fill: #FFFFFF;\n",
              "    }\n",
              "  </style>\n",
              "\n",
              "      <script>\n",
              "        const buttonEl =\n",
              "          document.querySelector('#df-3791abc2-1f2c-4243-b934-f6ef7947aa2d button.colab-df-convert');\n",
              "        buttonEl.style.display =\n",
              "          google.colab.kernel.accessAllowed ? 'block' : 'none';\n",
              "\n",
              "        async function convertToInteractive(key) {\n",
              "          const element = document.querySelector('#df-3791abc2-1f2c-4243-b934-f6ef7947aa2d');\n",
              "          const dataTable =\n",
              "            await google.colab.kernel.invokeFunction('convertToInteractive',\n",
              "                                                     [key], {});\n",
              "          if (!dataTable) return;\n",
              "\n",
              "          const docLinkHtml = 'Like what you see? Visit the ' +\n",
              "            '<a target=\"_blank\" href=https://colab.research.google.com/notebooks/data_table.ipynb>data table notebook</a>'\n",
              "            + ' to learn more about interactive tables.';\n",
              "          element.innerHTML = '';\n",
              "          dataTable['output_type'] = 'display_data';\n",
              "          await google.colab.output.renderOutput(dataTable, element);\n",
              "          const docLink = document.createElement('div');\n",
              "          docLink.innerHTML = docLinkHtml;\n",
              "          element.appendChild(docLink);\n",
              "        }\n",
              "      </script>\n",
              "    </div>\n",
              "  </div>\n",
              "  "
            ],
            "text/plain": [
              "                                                                                                                                                                     query  \\\n",
              "0    i want to fly from boston at 838 am and arrive in denver at 1110 in the morning                                                                                         \n",
              "1    what is the arrival time in san francisco for the 755 am flight leaving washington                                                                                      \n",
              "2    cheapest airfare from tacoma to orlando                                                                                                                                 \n",
              "3    what kind of aircraft is used on a flight from cleveland to dallas                                                                                                      \n",
              "4    what kind of ground transportation is available in denver                                                                                                               \n",
              "5    what 's the airport at orlando                                                                                                                                          \n",
              "6    which airline serves denver pittsburgh and atlanta                                                                                                                      \n",
              "7    how far is it from orlando airport to orlando                                                                                                                           \n",
              "8    what is fare code h                                                                                                                                                     \n",
              "9    how much does the limousine service cost within pittsburgh                                                                                                              \n",
              "10   please tell me how many nonstop flights there are from boston to atlanta                                                                                                \n",
              "11   what city is the airport mco in                                                                                                                                         \n",
              "12   flight numbers from columbus to minneapolis tomorrow                                                                                                                    \n",
              "13   how many seats in a 100                                                                                                                                                 \n",
              "14   give me the flights and fares on december twenty seventh from indianapolis to orlando                                                                                   \n",
              "15   show me all meals on flights from atlanta to washington                                                                                                                 \n",
              "16   what are the air restrictions on flights from pittsburgh to atlanta for the airfare of 416 dollars                                                                      \n",
              "17   airline and flight number from columbus to minneapolis                                                                                                                  \n",
              "18   what ground transportation is available from the pittsburgh airport to downtown and how much does it cost                                                               \n",
              "19   show me the costs and times for flights from san francisco to atlanta                                                                                                   \n",
              "20   show me the cheapest fare in the database                                                                                                                               \n",
              "21   i want to fly from detroit to st. petersburg on northwest airlines and leave around 9 am tell me what aircraft are used by this flight and tell me the flight number    \n",
              "\n",
              "                        intent  \\\n",
              "0   flight                       \n",
              "1   flight_time                  \n",
              "2   airfare                      \n",
              "3   aircraft                     \n",
              "4   ground_service               \n",
              "5   airport                      \n",
              "6   airline                      \n",
              "7   distance                     \n",
              "8   abbreviation                 \n",
              "9   ground_fare                  \n",
              "10  quantity                     \n",
              "11  city                         \n",
              "12  flight_no                    \n",
              "13  capacity                     \n",
              "14  flight+airfare               \n",
              "15  meal                         \n",
              "16  restriction                  \n",
              "17  airline+flight_no            \n",
              "18  ground_service+ground_fare   \n",
              "19  airfare+flight_time          \n",
              "20  cheapest                     \n",
              "21  aircraft+flight+flight_no    \n",
              "\n",
              "                                                                                                                                                                                                 slot filling  \n",
              "0    O O O O O B-fromloc.city_name O B-depart_time.time I-depart_time.time O O O B-toloc.city_name O B-arrive_time.time O O B-arrive_time.period_of_day                                                        \n",
              "1    O O O B-flight_time I-flight_time O B-fromloc.city_name I-fromloc.city_name O O B-depart_time.time I-depart_time.time O O B-fromloc.city_name                                                             \n",
              "2    B-cost_relative O O B-fromloc.city_name O B-toloc.city_name                                                                                                                                               \n",
              "3    O O O O O O O O O O B-fromloc.city_name O B-toloc.city_name                                                                                                                                               \n",
              "4    O O O O O O O O B-city_name                                                                                                                                                                               \n",
              "5    O O O O O B-city_name                                                                                                                                                                                     \n",
              "6    O O O B-fromloc.city_name B-fromloc.city_name O B-fromloc.city_name                                                                                                                                       \n",
              "7    O O O O O B-fromloc.airport_name I-fromloc.airport_name O B-toloc.city_name                                                                                                                               \n",
              "8    O O O O B-fare_basis_code                                                                                                                                                                                 \n",
              "9    O O O O B-transport_type O O O B-city_name                                                                                                                                                                \n",
              "10   O O O O O B-flight_stop O O O O B-fromloc.city_name O B-toloc.city_name                                                                                                                                   \n",
              "11   O O O O O B-fromloc.airport_code O                                                                                                                                                                        \n",
              "12   O O O B-fromloc.city_name O B-toloc.city_name B-depart_date.today_relative                                                                                                                                \n",
              "13   O O O O O B-aircraft_code                                                                                                                                                                                 \n",
              "14   O O O O O O O B-depart_date.month_name B-depart_date.day_number I-depart_date.day_number O B-fromloc.city_name O B-toloc.city_name                                                                        \n",
              "15   O O O B-meal O O O B-fromloc.city_name O B-toloc.city_name                                                                                                                                                \n",
              "16   O O O O O O O O B-fromloc.city_name O B-toloc.city_name O O O O B-fare_amount I-fare_amount                                                                                                               \n",
              "17   O O O O O B-fromloc.city_name O B-toloc.city_name                                                                                                                                                         \n",
              "18   O O O O O O O B-fromloc.airport_name I-fromloc.airport_name O O O O O O O O                                                                                                                               \n",
              "19   O O O O O B-flight_time O O O B-fromloc.city_name I-fromloc.city_name O B-toloc.city_name                                                                                                                 \n",
              "20   O O O B-cost_relative O O O O                                                                                                                                                                             \n",
              "21   O O O O O B-fromloc.city_name O B-toloc.city_name I-toloc.city_name O B-airline_name I-airline_name O O B-depart_time.time_relative B-depart_time.time I-depart_time.time O O O O O O O O O O O O O O O   "
            ]
          },
          "execution_count": 3,
          "metadata": {},
          "output_type": "execute_result"
        }
      ],
      "source": [
        "pd.set_option('display.max_colwidth', -1)\n",
        "df_small = pd.DataFrame(columns=['query','intent','slot filling'])\n",
        "j = 0\n",
        "for i in df_train.intent.unique():\n",
        "  df_small.loc[j] = df_train[df_train.intent==i].iloc[0]\n",
        "  j = j+1\n",
        "\n",
        "df_small"
      ]
    },
    {
      "cell_type": "markdown",
      "metadata": {
        "id": "HIJ-iSTLoM7Z"
      },
      "source": [
        "Let's see how many different types of \"intent\" are present in the data."
      ]
    },
    {
      "cell_type": "code",
      "execution_count": null,
      "metadata": {
        "colab": {
          "base_uri": "https://localhost:8080/"
        },
        "id": "L8URpFrloX9b",
        "outputId": "8832c88c-245e-4bc3-b799-ff34f3d3eb2f"
      },
      "outputs": [
        {
          "data": {
            "text/plain": [
              "flight                        3666\n",
              "airfare                       423 \n",
              "ground_service                255 \n",
              "airline                       157 \n",
              "abbreviation                  147 \n",
              "aircraft                      81  \n",
              "flight_time                   54  \n",
              "quantity                      51  \n",
              "flight+airfare                21  \n",
              "airport                       20  \n",
              "distance                      20  \n",
              "city                          19  \n",
              "ground_fare                   18  \n",
              "capacity                      16  \n",
              "flight_no                     12  \n",
              "meal                          6   \n",
              "restriction                   6   \n",
              "airline+flight_no             2   \n",
              "ground_service+ground_fare    1   \n",
              "airfare+flight_time           1   \n",
              "cheapest                      1   \n",
              "aircraft+flight+flight_no     1   \n",
              "Name: intent, dtype: int64"
            ]
          },
          "execution_count": 4,
          "metadata": {},
          "output_type": "execute_result"
        }
      ],
      "source": [
        "df_train['intent'].value_counts()"
      ]
    },
    {
      "cell_type": "code",
      "execution_count": null,
      "metadata": {
        "id": "vJM7m-ej_n8F"
      },
      "outputs": [],
      "source": [
        "query_data_train = df_train['query'].values\n",
        "intent_data_train = df_train['intent'].values\n",
        "slot_data_train = df_train['slot filling'].values\n",
        "\n",
        "query_data_test = df_test['query'].values\n",
        "intent_data_test = df_test['intent'].values\n",
        "slot_data_test = df_test['slot filling'].values"
      ]
    },
    {
      "cell_type": "markdown",
      "metadata": {
        "id": "bfAICLPgQym1"
      },
      "source": [
        "We briefly mentioned what the difference were between slot filling and intent in the introduction, but is worth going into more detail.\n",
        "\n",
        "As an example, let’s consider the user query “*i want to fly from boston at 838 am and arrive in denver at 1110 in the morning*”. The model should classify this user query as “**flight**” intent. It should also parse the query, identify and fill all slots necessary for understanding the query. Although the words “I”, “want”, “to”, “fly”, “from”, “at”, “and”, “arrive”, “in”, “the” contribute to understand the context of the intent, the model should correctly label the entities needed to fulfill user’s goal in its intention to take a flight. These are “boston” as departure city (B-fromloc.city), “8:38 am” as departure time (B-depart_time.time), “denver” as destination city (B-toloc.city_name), “11:10” as arrival time (B-arrive_time.time) and “morning” as arrival period of day (B-arrive_time.period_of_day). The 123 slot categories are shown below."
      ]
    },
    {
      "cell_type": "code",
      "execution_count": null,
      "metadata": {
        "colab": {
          "base_uri": "https://localhost:8080/"
        },
        "id": "14lT-eE-6i3j",
        "outputId": "2ebecf79-e606-428b-d443-815f93cdc51d"
      },
      "outputs": [
        {
          "data": {
            "text/plain": [
              "{'B-aircraft_code',\n",
              " 'B-airline_code',\n",
              " 'B-airline_name',\n",
              " 'B-airport_code',\n",
              " 'B-airport_name',\n",
              " 'B-arrive_date.date_relative',\n",
              " 'B-arrive_date.day_name',\n",
              " 'B-arrive_date.day_number',\n",
              " 'B-arrive_date.month_name',\n",
              " 'B-arrive_date.today_relative',\n",
              " 'B-arrive_time.end_time',\n",
              " 'B-arrive_time.period_mod',\n",
              " 'B-arrive_time.period_of_day',\n",
              " 'B-arrive_time.start_time',\n",
              " 'B-arrive_time.time',\n",
              " 'B-arrive_time.time_relative',\n",
              " 'B-city_name',\n",
              " 'B-class_type',\n",
              " 'B-connect',\n",
              " 'B-cost_relative',\n",
              " 'B-day_name',\n",
              " 'B-day_number',\n",
              " 'B-days_code',\n",
              " 'B-depart_date.date_relative',\n",
              " 'B-depart_date.day_name',\n",
              " 'B-depart_date.day_number',\n",
              " 'B-depart_date.month_name',\n",
              " 'B-depart_date.today_relative',\n",
              " 'B-depart_date.year',\n",
              " 'B-depart_time.end_time',\n",
              " 'B-depart_time.period_mod',\n",
              " 'B-depart_time.period_of_day',\n",
              " 'B-depart_time.start_time',\n",
              " 'B-depart_time.time',\n",
              " 'B-depart_time.time_relative',\n",
              " 'B-economy',\n",
              " 'B-fare_amount',\n",
              " 'B-fare_basis_code',\n",
              " 'B-flight_days',\n",
              " 'B-flight_mod',\n",
              " 'B-flight_number',\n",
              " 'B-flight_stop',\n",
              " 'B-flight_time',\n",
              " 'B-fromloc.airport_code',\n",
              " 'B-fromloc.airport_name',\n",
              " 'B-fromloc.city_name',\n",
              " 'B-fromloc.state_code',\n",
              " 'B-fromloc.state_name',\n",
              " 'B-meal',\n",
              " 'B-meal_code',\n",
              " 'B-meal_description',\n",
              " 'B-mod',\n",
              " 'B-month_name',\n",
              " 'B-or',\n",
              " 'B-period_of_day',\n",
              " 'B-restriction_code',\n",
              " 'B-return_date.date_relative',\n",
              " 'B-return_date.day_name',\n",
              " 'B-return_date.day_number',\n",
              " 'B-return_date.month_name',\n",
              " 'B-return_date.today_relative',\n",
              " 'B-return_time.period_mod',\n",
              " 'B-return_time.period_of_day',\n",
              " 'B-round_trip',\n",
              " 'B-state_code',\n",
              " 'B-state_name',\n",
              " 'B-stoploc.airport_name',\n",
              " 'B-stoploc.city_name',\n",
              " 'B-stoploc.state_code',\n",
              " 'B-time',\n",
              " 'B-time_relative',\n",
              " 'B-today_relative',\n",
              " 'B-toloc.airport_code',\n",
              " 'B-toloc.airport_name',\n",
              " 'B-toloc.city_name',\n",
              " 'B-toloc.country_name',\n",
              " 'B-toloc.state_code',\n",
              " 'B-toloc.state_name',\n",
              " 'B-transport_type',\n",
              " 'I-airline_name',\n",
              " 'I-airport_name',\n",
              " 'I-arrive_date.day_number',\n",
              " 'I-arrive_time.end_time',\n",
              " 'I-arrive_time.period_of_day',\n",
              " 'I-arrive_time.start_time',\n",
              " 'I-arrive_time.time',\n",
              " 'I-arrive_time.time_relative',\n",
              " 'I-city_name',\n",
              " 'I-class_type',\n",
              " 'I-cost_relative',\n",
              " 'I-depart_date.day_name',\n",
              " 'I-depart_date.day_number',\n",
              " 'I-depart_date.today_relative',\n",
              " 'I-depart_time.end_time',\n",
              " 'I-depart_time.period_of_day',\n",
              " 'I-depart_time.start_time',\n",
              " 'I-depart_time.time',\n",
              " 'I-depart_time.time_relative',\n",
              " 'I-economy',\n",
              " 'I-fare_amount',\n",
              " 'I-fare_basis_code',\n",
              " 'I-flight_mod',\n",
              " 'I-flight_stop',\n",
              " 'I-flight_time',\n",
              " 'I-fromloc.airport_name',\n",
              " 'I-fromloc.city_name',\n",
              " 'I-fromloc.state_name',\n",
              " 'I-meal_code',\n",
              " 'I-meal_description',\n",
              " 'I-mod',\n",
              " 'I-restriction_code',\n",
              " 'I-return_date.date_relative',\n",
              " 'I-return_date.day_number',\n",
              " 'I-return_date.today_relative',\n",
              " 'I-round_trip',\n",
              " 'I-stoploc.city_name',\n",
              " 'I-time',\n",
              " 'I-today_relative',\n",
              " 'I-toloc.airport_name',\n",
              " 'I-toloc.city_name',\n",
              " 'I-toloc.state_name',\n",
              " 'I-transport_type',\n",
              " 'O'}"
            ]
          },
          "execution_count": 6,
          "metadata": {},
          "output_type": "execute_result"
        }
      ],
      "source": [
        "unique_slots = set()\n",
        "for s in slot_data_train:\n",
        "  unique_slots = unique_slots.union(set(s.split()))\n",
        "unique_slots"
      ]
    },
    {
      "cell_type": "code",
      "execution_count": null,
      "metadata": {
        "colab": {
          "base_uri": "https://localhost:8080/"
        },
        "id": "Nzi6TzChDYDX",
        "outputId": "3d794f42-8249-4704-cfd5-3a25dbdb1fd8"
      },
      "outputs": [
        {
          "data": {
            "text/plain": [
              "123"
            ]
          },
          "execution_count": 7,
          "metadata": {},
          "output_type": "execute_result"
        }
      ],
      "source": [
        "len(unique_slots)"
      ]
    },
    {
      "cell_type": "markdown",
      "metadata": {
        "id": "khtDWvcGwTeJ"
      },
      "source": [
        "**123 slot categories!!**"
      ]
    },
    {
      "cell_type": "markdown",
      "metadata": {
        "id": "IzNTx1rf--xQ"
      },
      "source": [
        "## Intent Prediction Model [NLP 2 Screen 1]\n"
      ]
    },
    {
      "cell_type": "code",
      "execution_count": null,
      "metadata": {
        "id": "aJkCBFuOgCgT"
      },
      "outputs": [],
      "source": [
        "max_tokens = 10000  # This defines the size of the dictionary (maximum number of words included)\n",
        "text_vectorization = keras.layers.TextVectorization(\n",
        "    max_tokens=max_tokens,\n",
        "    output_mode=\"multi_hot\",\n",
        "    ngrams=2\n",
        ")\n",
        "text_vectorization.adapt(query_data_train)\n"
      ]
    },
    {
      "cell_type": "code",
      "execution_count": null,
      "metadata": {
        "colab": {
          "base_uri": "https://localhost:8080/"
        },
        "id": "UxN3Yn27yO3t",
        "outputId": "806dcd3f-4e63-46b3-afa4-4802c8d62b96"
      },
      "outputs": [
        {
          "data": {
            "text/plain": [
              "6864"
            ]
          },
          "execution_count": 9,
          "metadata": {},
          "output_type": "execute_result"
        }
      ],
      "source": [
        "text_vectorization.vocabulary_size()"
      ]
    },
    {
      "cell_type": "code",
      "execution_count": null,
      "metadata": {
        "colab": {
          "base_uri": "https://localhost:8080/"
        },
        "id": "xoLJuIDSerEh",
        "outputId": "1f29facd-f7d0-48e9-d7c5-b8455b7e9aab"
      },
      "outputs": [
        {
          "data": {
            "text/plain": [
              "['[UNK]',\n",
              " 'to',\n",
              " 'from',\n",
              " 'flights',\n",
              " 'the',\n",
              " 'flights from',\n",
              " 'on',\n",
              " 'what',\n",
              " 'me',\n",
              " 'flight',\n",
              " 'boston',\n",
              " 'show',\n",
              " 'san',\n",
              " 'i',\n",
              " 'denver',\n",
              " 'show me',\n",
              " 'a',\n",
              " 'san francisco',\n",
              " 'francisco',\n",
              " 'in']"
            ]
          },
          "execution_count": 10,
          "metadata": {},
          "output_type": "execute_result"
        }
      ],
      "source": [
        "text_vectorization.get_vocabulary()[:20]"
      ]
    },
    {
      "cell_type": "code",
      "execution_count": null,
      "metadata": {
        "colab": {
          "base_uri": "https://localhost:8080/"
        },
        "id": "3WWrlx5Hyjqs",
        "outputId": "03762a2e-ba48-4b0c-b633-29810004b718"
      },
      "outputs": [
        {
          "data": {
            "text/plain": [
              "array([' i want to fly from boston at 838 am and arrive in denver at 1110 in the morning ',\n",
              "       ' what flights are available from pittsburgh to baltimore on thursday morning ',\n",
              "       ' what is the arrival time in san francisco for the 755 am flight leaving washington ',\n",
              "       ' cheapest airfare from tacoma to orlando ',\n",
              "       ' round trip fares from pittsburgh to philadelphia under 1000 dollars '],\n",
              "      dtype=object)"
            ]
          },
          "execution_count": 11,
          "metadata": {},
          "output_type": "execute_result"
        }
      ],
      "source": [
        "query_data_train[:5]"
      ]
    },
    {
      "cell_type": "code",
      "execution_count": null,
      "metadata": {
        "colab": {
          "base_uri": "https://localhost:8080/"
        },
        "id": "De_9PuQLyoyU",
        "outputId": "5f44c3cc-8ca0-456d-acb1-860bc45c2fec"
      },
      "outputs": [
        {
          "data": {
            "text/plain": [
              "array(['flight', 'flight', 'flight_time', 'airfare', 'airfare'],\n",
              "      dtype=object)"
            ]
          },
          "execution_count": 12,
          "metadata": {},
          "output_type": "execute_result"
        }
      ],
      "source": [
        "intent_data_train[:5]"
      ]
    },
    {
      "cell_type": "code",
      "execution_count": null,
      "metadata": {
        "id": "rynhp0aBx3GP"
      },
      "outputs": [],
      "source": [
        "input_vocab = text_vectorization.vocabulary_size()\n",
        "\n",
        "query_data_train_vec = text_vectorization(query_data_train)\n",
        "query_data_test_vec = text_vectorization(query_data_test)\n",
        "\n"
      ]
    },
    {
      "cell_type": "markdown",
      "metadata": {
        "id": "mRClXLBnc96b"
      },
      "source": [
        "Let's take a look at the input data"
      ]
    },
    {
      "cell_type": "code",
      "execution_count": null,
      "metadata": {
        "colab": {
          "base_uri": "https://localhost:8080/"
        },
        "id": "MrEhhvyFzU6U",
        "outputId": "d1b28410-f8f6-4520-f55e-2d36f2864f66"
      },
      "outputs": [
        {
          "data": {
            "text/plain": [
              "TensorShape([4978, 6864])"
            ]
          },
          "execution_count": 14,
          "metadata": {},
          "output_type": "execute_result"
        }
      ],
      "source": [
        "query_data_train_vec.shape"
      ]
    },
    {
      "cell_type": "code",
      "execution_count": null,
      "metadata": {
        "colab": {
          "base_uri": "https://localhost:8080/"
        },
        "id": "EQLdB1oxzXUZ",
        "outputId": "a06cb699-345c-42a0-bebe-67970cc5902e"
      },
      "outputs": [
        {
          "data": {
            "text/plain": [
              "<tf.Tensor: shape=(6864,), dtype=float32, numpy=array([0., 1., 1., ..., 0., 0., 0.], dtype=float32)>"
            ]
          },
          "execution_count": 15,
          "metadata": {},
          "output_type": "execute_result"
        }
      ],
      "source": [
        "query_data_train_vec[0]"
      ]
    },
    {
      "cell_type": "markdown",
      "metadata": {
        "id": "HztHZzFTdDz1"
      },
      "source": [
        "Let's take a look at the output data"
      ]
    },
    {
      "cell_type": "code",
      "execution_count": null,
      "metadata": {
        "id": "N3qKvQILfNd6"
      },
      "outputs": [],
      "source": [
        "# Output classes integer encoding\n",
        "text_vectorization_intent = keras.layers.TextVectorization()\n",
        "text_vectorization_intent.adapt(intent_data_train)\n",
        "\n",
        "n_intents = text_vectorization_intent.vocabulary_size()\n",
        "\n",
        "intent_data_train_sparse = text_vectorization_intent(intent_data_train)\n",
        "intent_data_test_sparse = text_vectorization_intent(intent_data_test)"
      ]
    },
    {
      "cell_type": "code",
      "execution_count": null,
      "metadata": {
        "colab": {
          "base_uri": "https://localhost:8080/"
        },
        "id": "X73eTzOFziDR",
        "outputId": "72a0f376-4f19-489b-961f-5285d2db59ce"
      },
      "outputs": [
        {
          "data": {
            "text/plain": [
              "24"
            ]
          },
          "execution_count": 17,
          "metadata": {},
          "output_type": "execute_result"
        }
      ],
      "source": [
        "n_intents"
      ]
    },
    {
      "cell_type": "code",
      "execution_count": null,
      "metadata": {
        "colab": {
          "base_uri": "https://localhost:8080/"
        },
        "id": "K3Ebeft5zvjE",
        "outputId": "b77154ef-864a-4379-a65a-07fd8bf305b8"
      },
      "outputs": [
        {
          "data": {
            "text/plain": [
              "TensorShape([4978, 1])"
            ]
          },
          "execution_count": 18,
          "metadata": {},
          "output_type": "execute_result"
        }
      ],
      "source": [
        "intent_data_train_sparse.shape"
      ]
    },
    {
      "cell_type": "code",
      "execution_count": null,
      "metadata": {
        "colab": {
          "base_uri": "https://localhost:8080/"
        },
        "id": "yF1fS0ZGzxW7",
        "outputId": "1c92b2a5-00da-4bb6-9832-74b84970678e"
      },
      "outputs": [
        {
          "data": {
            "text/plain": [
              "<tf.Tensor: shape=(5, 1), dtype=int64, numpy=\n",
              "array([[2],\n",
              "       [2],\n",
              "       [8],\n",
              "       [3],\n",
              "       [3]])>"
            ]
          },
          "execution_count": 19,
          "metadata": {},
          "output_type": "execute_result"
        }
      ],
      "source": [
        "intent_data_train_sparse[:5]"
      ]
    },
    {
      "cell_type": "code",
      "execution_count": null,
      "metadata": {
        "colab": {
          "base_uri": "https://localhost:8080/"
        },
        "id": "IGnosRwVcfWB",
        "outputId": "3c72ba40-08ed-48a3-b87e-8e087910b632"
      },
      "outputs": [
        {
          "name": "stdout",
          "output_type": "stream",
          "text": [
            "Model: \"model\"\n",
            "_________________________________________________________________\n",
            " Layer (type)                Output Shape              Param #   \n",
            "=================================================================\n",
            " input_1 (InputLayer)        [(None, 6864)]            0         \n",
            "                                                                 \n",
            " dense (Dense)               (None, 64)                439360    \n",
            "                                                                 \n",
            " dropout (Dropout)           (None, 64)                0         \n",
            "                                                                 \n",
            " dense_1 (Dense)             (None, 24)                1560      \n",
            "                                                                 \n",
            "=================================================================\n",
            "Total params: 440,920\n",
            "Trainable params: 440,920\n",
            "Non-trainable params: 0\n",
            "_________________________________________________________________\n"
          ]
        }
      ],
      "source": [
        "# Intent Classification Model - a 24-way softmax!\n",
        "\n",
        "units = 64\n",
        "\n",
        "inputs = keras.Input(shape=(input_vocab, ))\n",
        "x = keras.layers.Dense(units=units)(inputs)\n",
        "x = keras.layers.Dropout(0.5)(x)\n",
        "outputs = keras.layers.Dense(n_intents, activation=\"softmax\")(x)\n",
        "\n",
        "model = keras.Model(inputs, outputs)\n",
        "model.summary()"
      ]
    },
    {
      "cell_type": "code",
      "execution_count": null,
      "metadata": {
        "id": "mRK-e2CNcbt6"
      },
      "outputs": [],
      "source": [
        "model.compile(optimizer=\"adam\",\n",
        "              loss=\"sparse_categorical_crossentropy\",\n",
        "              metrics=[\"sparse_categorical_accuracy\"])"
      ]
    },
    {
      "cell_type": "code",
      "execution_count": null,
      "metadata": {
        "colab": {
          "base_uri": "https://localhost:8080/"
        },
        "id": "b5yFibtMcZ4n",
        "outputId": "24cdda85-1b64-4e9b-fefd-7ba61c461480"
      },
      "outputs": [
        {
          "name": "stdout",
          "output_type": "stream",
          "text": [
            "Epoch 1/20\n",
            "156/156 [==============================] - 5s 3ms/step - loss: 1.0438 - sparse_categorical_accuracy: 0.7883\n",
            "Epoch 2/20\n",
            "156/156 [==============================] - 0s 3ms/step - loss: 0.3843 - sparse_categorical_accuracy: 0.9142\n",
            "Epoch 3/20\n",
            "156/156 [==============================] - 0s 3ms/step - loss: 0.2100 - sparse_categorical_accuracy: 0.9546\n",
            "Epoch 4/20\n",
            "156/156 [==============================] - 0s 3ms/step - loss: 0.1223 - sparse_categorical_accuracy: 0.9761\n",
            "Epoch 5/20\n",
            "156/156 [==============================] - 0s 3ms/step - loss: 0.0771 - sparse_categorical_accuracy: 0.9890\n",
            "Epoch 6/20\n",
            "156/156 [==============================] - 0s 3ms/step - loss: 0.0540 - sparse_categorical_accuracy: 0.9928\n",
            "Epoch 7/20\n",
            "156/156 [==============================] - 0s 3ms/step - loss: 0.0382 - sparse_categorical_accuracy: 0.9948\n",
            "Epoch 8/20\n",
            "156/156 [==============================] - 0s 3ms/step - loss: 0.0273 - sparse_categorical_accuracy: 0.9972\n",
            "Epoch 9/20\n",
            "156/156 [==============================] - 0s 3ms/step - loss: 0.0203 - sparse_categorical_accuracy: 0.9986\n",
            "Epoch 10/20\n",
            "156/156 [==============================] - 0s 3ms/step - loss: 0.0149 - sparse_categorical_accuracy: 0.9988\n",
            "Epoch 11/20\n",
            "156/156 [==============================] - 0s 3ms/step - loss: 0.0126 - sparse_categorical_accuracy: 0.9990\n",
            "Epoch 12/20\n",
            "156/156 [==============================] - 1s 4ms/step - loss: 0.0094 - sparse_categorical_accuracy: 0.9998\n",
            "Epoch 13/20\n",
            "156/156 [==============================] - 1s 4ms/step - loss: 0.0077 - sparse_categorical_accuracy: 0.9996\n",
            "Epoch 14/20\n",
            "156/156 [==============================] - 1s 4ms/step - loss: 0.0067 - sparse_categorical_accuracy: 0.9996\n",
            "Epoch 15/20\n",
            "156/156 [==============================] - 1s 4ms/step - loss: 0.0062 - sparse_categorical_accuracy: 0.9996\n",
            "Epoch 16/20\n",
            "156/156 [==============================] - 1s 4ms/step - loss: 0.0051 - sparse_categorical_accuracy: 0.9998\n",
            "Epoch 17/20\n",
            "156/156 [==============================] - 1s 4ms/step - loss: 0.0047 - sparse_categorical_accuracy: 1.0000\n",
            "Epoch 18/20\n",
            "156/156 [==============================] - 0s 3ms/step - loss: 0.0039 - sparse_categorical_accuracy: 1.0000\n",
            "Epoch 19/20\n",
            "156/156 [==============================] - 0s 3ms/step - loss: 0.0029 - sparse_categorical_accuracy: 1.0000\n",
            "Epoch 20/20\n",
            "156/156 [==============================] - 0s 3ms/step - loss: 0.0025 - sparse_categorical_accuracy: 1.0000\n"
          ]
        },
        {
          "data": {
            "text/plain": [
              "<keras.callbacks.History at 0x7f7c3c36e700>"
            ]
          },
          "execution_count": 22,
          "metadata": {},
          "output_type": "execute_result"
        }
      ],
      "source": [
        "model.fit(x=query_data_train_vec,\n",
        "          y=intent_data_train_sparse,\n",
        "          epochs=20)"
      ]
    },
    {
      "cell_type": "code",
      "execution_count": null,
      "metadata": {
        "colab": {
          "base_uri": "https://localhost:8080/"
        },
        "id": "r5rO5h5o0UNt",
        "outputId": "81467023-105c-420e-daa4-ea74e344acba"
      },
      "outputs": [
        {
          "name": "stdout",
          "output_type": "stream",
          "text": [
            "28/28 [==============================] - 0s 3ms/step - loss: 0.3979 - sparse_categorical_accuracy: 0.9362\n"
          ]
        },
        {
          "data": {
            "text/plain": [
              "[0.3979095220565796, 0.936170220375061]"
            ]
          },
          "execution_count": 23,
          "metadata": {},
          "output_type": "execute_result"
        }
      ],
      "source": [
        "model.evaluate(x=query_data_test_vec, y=intent_data_test_sparse)"
      ]
    },
    {
      "cell_type": "markdown",
      "metadata": {
        "id": "R9k4UrkpETVl"
      },
      "source": [
        "94% accuracy! Is this impressive? Let's check what the baseline is."
      ]
    },
    {
      "cell_type": "code",
      "execution_count": null,
      "metadata": {
        "colab": {
          "base_uri": "https://localhost:8080/"
        },
        "id": "HV__5qJ8EZKI",
        "outputId": "651c8b1f-481a-4cc7-c075-d40dfe6540b1"
      },
      "outputs": [
        {
          "data": {
            "text/plain": [
              "flight               0.707727\n",
              "airfare              0.053751\n",
              "airline              0.042553\n",
              "ground_service       0.040314\n",
              "abbreviation         0.036954\n",
              "capacity             0.023516\n",
              "airport              0.020157\n",
              "flight+airfare       0.013438\n",
              "distance             0.011198\n",
              "aircraft             0.010078\n",
              "flight_no            0.008959\n",
              "ground_fare          0.007839\n",
              "city                 0.006719\n",
              "meal                 0.006719\n",
              "quantity             0.003359\n",
              "day_name             0.002240\n",
              "flight_time          0.001120\n",
              "airfare+flight       0.001120\n",
              "flight+airline       0.001120\n",
              "flight_no+airline    0.001120\n",
              "Name: intent, dtype: float64"
            ]
          },
          "execution_count": 24,
          "metadata": {},
          "output_type": "execute_result"
        }
      ],
      "source": [
        "df_test['intent'].value_counts() / df_test.shape[0]"
      ]
    },
    {
      "cell_type": "markdown",
      "metadata": {
        "id": "NygWkVImE5S-"
      },
      "source": [
        "We can get to 71% accuracy by classifying every test example as \"flight\" so the 94% accuracy of our intent model is nice!"
      ]
    },
    {
      "cell_type": "markdown",
      "metadata": {
        "id": "ECQK8Viofg2A"
      },
      "source": [
        "**PPT**"
      ]
    },
    {
      "cell_type": "markdown",
      "metadata": {
        "id": "a-PxWKVAZ7Pt"
      },
      "source": [
        "## Word-to-Slot Classification Model"
      ]
    },
    {
      "cell_type": "markdown",
      "metadata": {
        "id": "2YtrJNyO_6K_"
      },
      "source": [
        "Our model will take as input the query sentence, and will break it down into bigrams. Then, it will go token by token over the sentence trying to predict which slot, if any, that token maps to. Therefore, each input of the model will correspond to a pair (sentence, word), for each sentence and each word in the sentence.\n",
        "\n",
        "We will first define some helper functions to wrangle the data into the (query, word) format we described in the PPT."
      ]
    },
    {
      "cell_type": "code",
      "execution_count": null,
      "metadata": {
        "id": "uvy6B0ETwdwT"
      },
      "outputs": [],
      "source": [
        "def transform_data_sentence(data):\n",
        "  new_data = []\n",
        "  for d in data:\n",
        "    words = d.split()\n",
        "    for w in words:\n",
        "      new_data.append([w, d])\n",
        "  words_train = [d[0] for d in new_data]\n",
        "  sentence_train = [d[1] for d in new_data]\n",
        "  return np.array(words_train), np.array(sentence_train)\n",
        "\n",
        "def transform_data_slot(data):\n",
        "  out = []\n",
        "  for d in data:\n",
        "    out += d.split()\n",
        "  return np.array(out)"
      ]
    },
    {
      "cell_type": "code",
      "execution_count": null,
      "metadata": {
        "id": "ZdB8hvBcdpjU"
      },
      "outputs": [],
      "source": [
        "words_train, query_train = transform_data_sentence(query_data_train)\n",
        "words_test, query_test = transform_data_sentence(query_data_test)"
      ]
    },
    {
      "cell_type": "code",
      "execution_count": null,
      "metadata": {
        "colab": {
          "base_uri": "https://localhost:8080/"
        },
        "id": "wejKpu-TeUyO",
        "outputId": "595951b7-2796-4bd4-ac7b-ac7223b42447"
      },
      "outputs": [
        {
          "data": {
            "text/plain": [
              "array([' i want to fly from boston at 838 am and arrive in denver at 1110 in the morning ',\n",
              "       ' what flights are available from pittsburgh to baltimore on thursday morning '],\n",
              "      dtype=object)"
            ]
          },
          "execution_count": 27,
          "metadata": {},
          "output_type": "execute_result"
        }
      ],
      "source": [
        "query_data_train[:2]"
      ]
    },
    {
      "cell_type": "code",
      "execution_count": null,
      "metadata": {
        "colab": {
          "base_uri": "https://localhost:8080/"
        },
        "id": "TD807Gz2d8QC",
        "outputId": "7c3bee9c-664b-4e9e-a5e7-33127a96f27b"
      },
      "outputs": [
        {
          "data": {
            "text/plain": [
              "array([' i want to fly from boston at 838 am and arrive in denver at 1110 in the morning ',\n",
              "       ' i want to fly from boston at 838 am and arrive in denver at 1110 in the morning ',\n",
              "       ' i want to fly from boston at 838 am and arrive in denver at 1110 in the morning ',\n",
              "       ' i want to fly from boston at 838 am and arrive in denver at 1110 in the morning ',\n",
              "       ' i want to fly from boston at 838 am and arrive in denver at 1110 in the morning ',\n",
              "       ' i want to fly from boston at 838 am and arrive in denver at 1110 in the morning ',\n",
              "       ' i want to fly from boston at 838 am and arrive in denver at 1110 in the morning ',\n",
              "       ' i want to fly from boston at 838 am and arrive in denver at 1110 in the morning ',\n",
              "       ' i want to fly from boston at 838 am and arrive in denver at 1110 in the morning ',\n",
              "       ' i want to fly from boston at 838 am and arrive in denver at 1110 in the morning ',\n",
              "       ' i want to fly from boston at 838 am and arrive in denver at 1110 in the morning ',\n",
              "       ' i want to fly from boston at 838 am and arrive in denver at 1110 in the morning ',\n",
              "       ' i want to fly from boston at 838 am and arrive in denver at 1110 in the morning ',\n",
              "       ' i want to fly from boston at 838 am and arrive in denver at 1110 in the morning ',\n",
              "       ' i want to fly from boston at 838 am and arrive in denver at 1110 in the morning ',\n",
              "       ' i want to fly from boston at 838 am and arrive in denver at 1110 in the morning ',\n",
              "       ' i want to fly from boston at 838 am and arrive in denver at 1110 in the morning ',\n",
              "       ' i want to fly from boston at 838 am and arrive in denver at 1110 in the morning ',\n",
              "       ' what flights are available from pittsburgh to baltimore on thursday morning ',\n",
              "       ' what flights are available from pittsburgh to baltimore on thursday morning '],\n",
              "      dtype='<U261')"
            ]
          },
          "execution_count": 28,
          "metadata": {},
          "output_type": "execute_result"
        }
      ],
      "source": [
        "query_train[:20]"
      ]
    },
    {
      "cell_type": "code",
      "execution_count": null,
      "metadata": {
        "colab": {
          "base_uri": "https://localhost:8080/"
        },
        "id": "hcu3LHDCeJLJ",
        "outputId": "7261135b-acd4-40df-fe26-5ca10efaed36"
      },
      "outputs": [
        {
          "data": {
            "text/plain": [
              "array(['i', 'want', 'to', 'fly', 'from', 'boston', 'at', '838', 'am',\n",
              "       'and', 'arrive', 'in', 'denver', 'at', '1110', 'in', 'the',\n",
              "       'morning', 'what', 'flights'], dtype='<U16')"
            ]
          },
          "execution_count": 29,
          "metadata": {},
          "output_type": "execute_result"
        }
      ],
      "source": [
        "words_train[:20]"
      ]
    },
    {
      "cell_type": "code",
      "execution_count": null,
      "metadata": {
        "id": "HPmaSK4IdubB"
      },
      "outputs": [],
      "source": [
        "slots_text_train = transform_data_slot(slot_data_train)\n",
        "slots_text_test = transform_data_slot(slot_data_test)"
      ]
    },
    {
      "cell_type": "code",
      "execution_count": null,
      "metadata": {
        "colab": {
          "base_uri": "https://localhost:8080/",
          "height": 55
        },
        "id": "RFxIYBBTerAr",
        "outputId": "cf26e7e1-4fda-463a-b994-eb8c7bc7d3c9"
      },
      "outputs": [
        {
          "data": {
            "application/vnd.google.colaboratory.intrinsic+json": {
              "type": "string"
            },
            "text/plain": [
              "' O O O O O B-fromloc.city_name O B-depart_time.time I-depart_time.time O O O B-toloc.city_name O B-arrive_time.time O O B-arrive_time.period_of_day '"
            ]
          },
          "execution_count": 31,
          "metadata": {},
          "output_type": "execute_result"
        }
      ],
      "source": [
        "slot_data_train[0]"
      ]
    },
    {
      "cell_type": "code",
      "execution_count": null,
      "metadata": {
        "colab": {
          "base_uri": "https://localhost:8080/"
        },
        "id": "Z8R3sOEaeuP4",
        "outputId": "ff3aaa87-e512-4741-dc6b-edfc68b45591"
      },
      "outputs": [
        {
          "data": {
            "text/plain": [
              "array(['O', 'O', 'O', 'O', 'O', 'B-fromloc.city_name', 'O',\n",
              "       'B-depart_time.time', 'I-depart_time.time', 'O', 'O', 'O',\n",
              "       'B-toloc.city_name', 'O', 'B-arrive_time.time', 'O', 'O',\n",
              "       'B-arrive_time.period_of_day', 'O', 'O'], dtype='<U28')"
            ]
          },
          "execution_count": 32,
          "metadata": {},
          "output_type": "execute_result"
        }
      ],
      "source": [
        "slots_text_train[:20]"
      ]
    },
    {
      "cell_type": "markdown",
      "metadata": {
        "id": "wvdpU65Xhowb"
      },
      "source": [
        "Now the data is in the (query, word, slot) format we described in the PPT and is ready to be vectorized.\n"
      ]
    },
    {
      "cell_type": "markdown",
      "metadata": {
        "id": "mFfP3pKVip1b"
      },
      "source": [
        "\n",
        "We will have 3 different text vectorizations:\n",
        "* for the sentence (query): default standardization + bigrams + multi-hot encoding\n",
        "* for the individual words: default standardization + unigrams + one-hot encoding\n",
        "* for the slots: NO standardization + unigrams + int\n",
        "\n",
        "**Why should we not standardize the slot labels?**"
      ]
    },
    {
      "cell_type": "code",
      "execution_count": null,
      "metadata": {
        "id": "sI57NQCQeoIn"
      },
      "outputs": [],
      "source": [
        "# Query vectorization\n",
        "max_tokens = 10000  # This defines the size of the dictionary (maximum number of words included)\n",
        "text_vectorization_query = keras.layers.TextVectorization(\n",
        "    max_tokens=max_tokens,\n",
        "    output_mode=\"multi_hot\",\n",
        "    ngrams=2\n",
        ")\n",
        "text_vectorization_query.adapt(query_train)\n",
        "query_vocab_size = text_vectorization_query.vocabulary_size()"
      ]
    },
    {
      "cell_type": "code",
      "execution_count": null,
      "metadata": {
        "id": "YhUu-zKCe6GI"
      },
      "outputs": [],
      "source": [
        "# Words vectorization\n",
        "text_vectorization_word = keras.layers.TextVectorization(\n",
        "    max_tokens=max_tokens,\n",
        "    output_mode=\"multi_hot\",\n",
        "    ngrams=1\n",
        ")\n",
        "text_vectorization_word.adapt(words_train)\n",
        "word_vocab_size = text_vectorization_word.vocabulary_size()\n"
      ]
    },
    {
      "cell_type": "code",
      "execution_count": null,
      "metadata": {
        "id": "c_VRk6yxe-eW"
      },
      "outputs": [],
      "source": [
        "# Output (Slots) vectorization\n",
        "text_vectorization_slots = keras.layers.TextVectorization(\n",
        "    standardize=None\n",
        ")\n",
        "text_vectorization_slots.adapt(slots_text_train)\n",
        "slots_vocab_size = text_vectorization_slots.vocabulary_size()\n"
      ]
    },
    {
      "cell_type": "markdown",
      "metadata": {
        "id": "x_ZQMd34i8jG"
      },
      "source": [
        "The three text vectorization layers are ready and \"populated\" and we can now run the data through them."
      ]
    },
    {
      "cell_type": "code",
      "execution_count": null,
      "metadata": {
        "id": "F1or7dFifC7p"
      },
      "outputs": [],
      "source": [
        "# The vocabulary that will be indexed is given by the text corpus on our train dataset\n",
        "query_train_vec = text_vectorization_query(query_train)\n",
        "words_train_vec = text_vectorization_word(words_train)\n",
        "slots_train = text_vectorization_slots(slots_text_train)\n",
        "\n",
        "query_test_vec = text_vectorization_query(query_test)\n",
        "words_test_vec = text_vectorization_word(words_test)\n",
        "slots_test = text_vectorization_slots(slots_text_test)\n"
      ]
    },
    {
      "cell_type": "code",
      "execution_count": null,
      "metadata": {
        "id": "AF-GPCQAfIgI"
      },
      "outputs": [],
      "source": [
        "# # Sample weight\n",
        "# p_0 = np.sum(slots_text_train == 'O') / slots_text_train.shape\n",
        "# sample_weight = np.array([1 if s != 'O' else (1 - p_0[0]) / p_0[0] for s in slots_text_train])\n"
      ]
    },
    {
      "cell_type": "code",
      "execution_count": null,
      "metadata": {
        "colab": {
          "base_uri": "https://localhost:8080/"
        },
        "id": "bqP12ba0dEPp",
        "outputId": "815eec2e-1bee-49de-949a-b2f8be5ae5cd"
      },
      "outputs": [
        {
          "name": "stdout",
          "output_type": "stream",
          "text": [
            "Model: \"model_1\"\n",
            "__________________________________________________________________________________________________\n",
            " Layer (type)                   Output Shape         Param #     Connected to                     \n",
            "==================================================================================================\n",
            " input_2 (InputLayer)           [(None, 6864)]       0           []                               \n",
            "                                                                                                  \n",
            " input_3 (InputLayer)           [(None, 887)]        0           []                               \n",
            "                                                                                                  \n",
            " concatenate (Concatenate)      (None, 7751)         0           ['input_2[0][0]',                \n",
            "                                                                  'input_3[0][0]']                \n",
            "                                                                                                  \n",
            " dense_2 (Dense)                (None, 128)          992256      ['concatenate[0][0]']            \n",
            "                                                                                                  \n",
            " dropout_1 (Dropout)            (None, 128)          0           ['dense_2[0][0]']                \n",
            "                                                                                                  \n",
            " dense_3 (Dense)                (None, 125)          16125       ['dropout_1[0][0]']              \n",
            "                                                                                                  \n",
            "==================================================================================================\n",
            "Total params: 1,008,381\n",
            "Trainable params: 1,008,381\n",
            "Non-trainable params: 0\n",
            "__________________________________________________________________________________________________\n"
          ]
        }
      ],
      "source": [
        "# Word-to-Slot Classification Model\n",
        "units = 128\n",
        "epochs = 10\n",
        "\n",
        "input_query = keras.Input(shape=(query_vocab_size, ))\n",
        "input_word = keras.Input(shape=(word_vocab_size, ))\n",
        "x = keras.layers.Concatenate(axis=1)([input_query, input_word])\n",
        "x = keras.layers.Dense(units=units)(x)\n",
        "x = keras.layers.Dropout(0.5)(x)\n",
        "outputs = keras.layers.Dense(slots_vocab_size, activation=\"softmax\")(x)\n",
        "\n",
        "model = keras.Model([input_query, input_word], outputs)\n",
        "model.summary()\n"
      ]
    },
    {
      "cell_type": "code",
      "execution_count": null,
      "metadata": {
        "colab": {
          "base_uri": "https://localhost:8080/",
          "height": 168
        },
        "id": "yNtu2rtCfZMm",
        "outputId": "dcd2019b-7b39-45a8-beeb-0f8671ef45c7"
      },
      "outputs": [
        {
          "data": {
            "image/png": "[encoded data removed]",
            "text/plain": [
              "<IPython.core.display.Image object>"
            ]
          },
          "execution_count": 39,
          "metadata": {},
          "output_type": "execute_result"
        }
      ],
      "source": [
        "keras.utils.plot_model(model, show_shapes=True, rankdir='LR')"
      ]
    },
    {
      "cell_type": "markdown",
      "metadata": {
        "id": "JgcnH2TkfZ9Z"
      },
      "source": [
        "This is our first DL model that is receiving two different inputs and concatenating them! See how easy it is to define with the functional API.\n",
        "\n"
      ]
    },
    {
      "cell_type": "code",
      "execution_count": null,
      "metadata": {
        "id": "RSYFyp6OcxMy"
      },
      "outputs": [],
      "source": [
        "model.compile(optimizer=\"adam\",\n",
        "              loss=\"sparse_categorical_crossentropy\",\n",
        "              metrics=[\"sparse_categorical_accuracy\"])\n"
      ]
    },
    {
      "cell_type": "code",
      "execution_count": null,
      "metadata": {
        "colab": {
          "base_uri": "https://localhost:8080/"
        },
        "id": "qZVSmkJK7Eu1",
        "outputId": "42f2b62d-71df-44e7-8ec2-0ce26226bce5"
      },
      "outputs": [
        {
          "name": "stdout",
          "output_type": "stream",
          "text": [
            "Epoch 1/10\n",
            "1769/1769 [==============================] - 7s 4ms/step - loss: 0.8987 - sparse_categorical_accuracy: 0.7706\n",
            "Epoch 2/10\n",
            "1769/1769 [==============================] - 6s 3ms/step - loss: 0.3182 - sparse_categorical_accuracy: 0.8832\n",
            "Epoch 3/10\n",
            "1769/1769 [==============================] - 6s 3ms/step - loss: 0.2361 - sparse_categorical_accuracy: 0.9024\n",
            "Epoch 4/10\n",
            "1769/1769 [==============================] - 6s 3ms/step - loss: 0.2116 - sparse_categorical_accuracy: 0.9103\n",
            "Epoch 5/10\n",
            "1769/1769 [==============================] - 6s 3ms/step - loss: 0.1920 - sparse_categorical_accuracy: 0.9147\n",
            "Epoch 6/10\n",
            "1769/1769 [==============================] - 7s 4ms/step - loss: 0.1821 - sparse_categorical_accuracy: 0.9173\n",
            "Epoch 7/10\n",
            "1769/1769 [==============================] - 5s 3ms/step - loss: 0.1783 - sparse_categorical_accuracy: 0.9187\n",
            "Epoch 8/10\n",
            "1769/1769 [==============================] - 7s 4ms/step - loss: 0.1708 - sparse_categorical_accuracy: 0.9222\n",
            "Epoch 9/10\n",
            "1769/1769 [==============================] - 6s 3ms/step - loss: 0.1655 - sparse_categorical_accuracy: 0.9223\n",
            "Epoch 10/10\n",
            "1769/1769 [==============================] - 6s 4ms/step - loss: 0.1671 - sparse_categorical_accuracy: 0.9237\n"
          ]
        },
        {
          "data": {
            "text/plain": [
              "<keras.callbacks.History at 0x7f7c3c0878b0>"
            ]
          },
          "execution_count": 41,
          "metadata": {},
          "output_type": "execute_result"
        }
      ],
      "source": [
        "model.fit(x=[query_train_vec, words_train_vec],\n",
        "          y=slots_train,\n",
        "          epochs=epochs\n",
        "          )"
      ]
    },
    {
      "cell_type": "code",
      "execution_count": null,
      "metadata": {
        "colab": {
          "base_uri": "https://localhost:8080/"
        },
        "id": "a1my5U6Cfnhg",
        "outputId": "feee949f-c9dc-4acb-faf7-eee41b506829"
      },
      "outputs": [
        {
          "name": "stdout",
          "output_type": "stream",
          "text": [
            "288/288 [==============================] - 1s 2ms/step - loss: 0.3235 - sparse_categorical_accuracy: 0.8931\n"
          ]
        },
        {
          "data": {
            "text/plain": [
              "[0.3234550952911377, 0.8931289315223694]"
            ]
          },
          "execution_count": 42,
          "metadata": {},
          "output_type": "execute_result"
        }
      ],
      "source": [
        "model.evaluate(x=[query_test_vec, words_test_vec], y=slots_test)"
      ]
    },
    {
      "cell_type": "markdown",
      "metadata": {
        "id": "SeOzeYjbCoIL"
      },
      "source": [
        "We get to 89% accuracy. Not bad! However, this is a metric across all words, including the 'O's. Since there are so many of them, it could be that our model is overfitting to predict 'O' instead of the actual slots.\n",
        "\n",
        "Let's check what the accuracy is for the words that are not 'O' slots:"
      ]
    },
    {
      "cell_type": "code",
      "execution_count": null,
      "metadata": {
        "colab": {
          "base_uri": "https://localhost:8080/"
        },
        "id": "DUeTawjchp9w",
        "outputId": "6fb9ba3a-9948-46a0-ba4f-72c975ff1003"
      },
      "outputs": [
        {
          "name": "stdout",
          "output_type": "stream",
          "text": [
            "288/288 [==============================] - 1s 3ms/step\n",
            "Accuracy = 0.893\n",
            "Accuracy on slots = 0.738\n"
          ]
        }
      ],
      "source": [
        "from sklearn.metrics import accuracy_score\n",
        "\n",
        "predicted = np.argmax(model.predict([query_test_vec, words_test_vec]), axis=-1)\n",
        "actual = np.array([s[0] for s in slots_test])\n",
        "\n",
        "non_slot_token = text_vectorization_slots(['O']).numpy()[0, 0]\n",
        "acc = accuracy_score(actual, predicted)\n",
        "acc_slots = accuracy_score(actual[actual != non_slot_token],\n",
        "                           predicted[actual != non_slot_token])\n",
        "\n",
        "\n",
        "\n",
        "print(f'Accuracy = {acc:.3f}')\n",
        "print(f'Accuracy on slots = {acc_slots:.3f}')"
      ]
    },
    {
      "cell_type": "markdown",
      "metadata": {
        "id": "MovbOxpADAKk"
      },
      "source": [
        "If we restrict ourselves to only look at slots, then the accuracy drops down to 73%. :-(\n",
        "\n",
        "Think of a search engine that classifies correctly only 73% of its queries. Not good!\n",
        "\n",
        "Before moving to the next model, let's see how this model does on some examples."
      ]
    },
    {
      "cell_type": "code",
      "execution_count": null,
      "metadata": {
        "colab": {
          "base_uri": "https://localhost:8080/"
        },
        "id": "amtrIAusm8Tc",
        "outputId": "3f6c252f-41d3-46c3-b4c5-e00d697967a7"
      },
      "outputs": [
        {
          "name": "stdout",
          "output_type": "stream",
          "text": [
            "from los angeles\n",
            "1/1 [==============================] - 0s 20ms/step\n",
            "O B-toloc.city_name I-toloc.city_name\n",
            "\n",
            "to los angeles\n",
            "1/1 [==============================] - 0s 20ms/step\n",
            "O B-toloc.city_name I-toloc.city_name\n",
            "\n",
            "from boston\n",
            "1/1 [==============================] - 0s 19ms/step\n",
            "O B-fromloc.city_name\n",
            "\n",
            "to boston\n",
            "1/1 [==============================] - 0s 21ms/step\n",
            "O B-fromloc.city_name\n",
            "\n",
            "cheapest flight from boston to los angeles tomorrow\n",
            "1/1 [==============================] - 0s 18ms/step\n",
            "B-cost_relative O O B-fromloc.city_name O B-toloc.city_name I-toloc.city_name B-depart_date.today_relative\n",
            "\n",
            "what is the airport at orlando\n",
            "1/1 [==============================] - 0s 23ms/step\n",
            "O O O O O B-city_name\n",
            "\n",
            "what are the air restrictions on flights from pittsburgh to atlanta for the airfare of 416 dollars\n",
            "1/1 [==============================] - 0s 24ms/step\n",
            "O O O O O O O O B-fromloc.city_name O B-fromloc.city_name O O O O B-fare_amount I-fare_amount\n",
            "\n",
            "from boston to santiago\n",
            "1/1 [==============================] - 0s 19ms/step\n",
            "O B-fromloc.city_name O O\n",
            "\n"
          ]
        }
      ],
      "source": [
        "def predict_slots_query(query):\n",
        "  words = text_vectorization_word(query.split())\n",
        "  sentence = text_vectorization_query([query for i in words])\n",
        "\n",
        "  prediction = np.argmax(model.predict([np.array(sentence), np.array(words)]), axis=-1)\n",
        "\n",
        "  inverse_vocab = dict(enumerate(text_vectorization_slots.get_vocabulary()))\n",
        "  decoded_prediction = \" \".join(inverse_vocab[int(i)] for i in prediction)\n",
        "  return decoded_prediction\n",
        "\n",
        "examples = [\n",
        "            'from los angeles',\n",
        "            'to los angeles',\n",
        "            'from boston',\n",
        "            'to boston',\n",
        "            'cheapest flight from boston to los angeles tomorrow',\n",
        "            'what is the airport at orlando',\n",
        "            'what are the air restrictions on flights from pittsburgh to atlanta for the airfare of 416 dollars',\n",
        "            'from boston to santiago'\n",
        "]\n",
        "\n",
        "for e in examples:\n",
        "  print(e)\n",
        "  print(predict_slots_query(e))\n",
        "  print()"
      ]
    },
    {
      "cell_type": "code",
      "execution_count": null,
      "metadata": {
        "colab": {
          "base_uri": "https://localhost:8080/",
          "height": 73
        },
        "id": "Cn1jw2BNhr3Z",
        "outputId": "ebec5e41-7fff-4349-beee-e50659ac444e"
      },
      "outputs": [
        {
          "name": "stdout",
          "output_type": "stream",
          "text": [
            "1/1 [==============================] - 0s 23ms/step\n"
          ]
        },
        {
          "data": {
            "application/vnd.google.colaboratory.intrinsic+json": {
              "type": "string"
            },
            "text/plain": [
              "'O O O O O B-fromloc.city_name I-fromloc.city_name O B-toloc.city_name I-toloc.city_name B-depart_date.today_relative B-depart_time.period_of_day'"
            ]
          },
          "execution_count": 45,
          "metadata": {},
          "output_type": "execute_result"
        }
      ],
      "source": [
        "predict_slots_query(\"i want to fly from New York to Los Angeles tomorrow afternoon\")"
      ]
    },
    {
      "cell_type": "code",
      "execution_count": null,
      "metadata": {
        "colab": {
          "base_uri": "https://localhost:8080/",
          "height": 55
        },
        "id": "xy27JgQhh6Dx",
        "outputId": "96479fd1-483a-4a2a-9224-914e594a678a"
      },
      "outputs": [
        {
          "name": "stdout",
          "output_type": "stream",
          "text": [
            "1/1 [==============================] - 0s 21ms/step\n"
          ]
        },
        {
          "data": {
            "application/vnd.google.colaboratory.intrinsic+json": {
              "type": "string"
            },
            "text/plain": [
              "'O O O'"
            ]
          },
          "execution_count": 46,
          "metadata": {},
          "output_type": "execute_result"
        }
      ],
      "source": [
        "predict_slots_query(\"YOUR query here!\")"
      ]
    },
    {
      "cell_type": "markdown",
      "metadata": {
        "id": "wqh83qRJFIjz"
      },
      "source": [
        "We could now try to make the model more complex: increase the number of units or hidden layers, train for more epochs, modify the dropout layer ...\n",
        "\n",
        "Instead of going down that path, we will introduce a new architecture that will prove to be much more powerful - **TRANSFORMERS**"
      ]
    },
    {
      "cell_type": "markdown",
      "metadata": {
        "id": "gLCiqH1bk_OA"
      },
      "source": [
        "![image.png](data:image/png;base64,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)"
      ]
    }
  ],
  "metadata": {
    "accelerator": "GPU",
    "colab": {
      "collapsed_sections": [
        "XmxYrFl9m1hM",
        "IzNTx1rf--xQ",
        "a-PxWKVAZ7Pt",
        "TAoHWpgsn5oX"
      ],
      "machine_shape": "hm",
      "provenance": [],
      "include_colab_link": true
    },
    "kernelspec": {
      "display_name": "Python 3",
      "language": "python",
      "name": "python3"
    },
    "language_info": {
      "codemirror_mode": {
        "name": "ipython",
        "version": 3
      },
      "file_extension": ".py",
      "mimetype": "text/x-python",
      "name": "python",
      "nbconvert_exporter": "python",
      "pygments_lexer": "ipython3",
      "version": "3.6.9"
    }
  },
  "nbformat": 4,
  "nbformat_minor": 0
}